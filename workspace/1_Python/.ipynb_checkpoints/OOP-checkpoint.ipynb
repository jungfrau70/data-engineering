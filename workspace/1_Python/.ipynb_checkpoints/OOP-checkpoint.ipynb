{
 "cells": [
  {
   "cell_type": "code",
   "execution_count": null,
   "metadata": {},
   "outputs": [],
   "source": [
    "# %load .\\Python_basics\\N_OOPs+Basics+Part+1.txt\n",
    "class Person:\n",
    "    def __init__(self,age):\n",
    "        self.new_age = age\n",
    "    def sleep(self,hours):\n",
    "        return str(hours * 60) + 'minutes'\n",
    "\n",
    "robert = Person(20)\n",
    "print(robert.new_age)\n"
   ]
  },
  {
   "cell_type": "code",
   "execution_count": null,
   "metadata": {},
   "outputs": [],
   "source": [
    "# %load .\\Python_basics\\O_OOPs+Basics+Part+2.txt\n",
    "class Person:\n",
    "    def __init__(self,age):\n",
    "        self.new_age = age\n",
    "    def sleep(self,hours):\n",
    "        return str(hours * 60) + 'minutes'\n",
    "    def get_age(self):\n",
    "        return self.new_age\n",
    "    def set_age(self,age):\n",
    "        self.new_age = age\n",
    "\n",
    "robert = Person(20)\n",
    "print(robert.get_age())\n",
    "\n",
    "robert.set_age(25)\n",
    "print(robert.get_age())\n"
   ]
  },
  {
   "cell_type": "code",
   "execution_count": null,
   "metadata": {},
   "outputs": [],
   "source": [
    "# %load .\\Python_basics\\P_OOPs+Basics+Exercises.txt\n",
    "class Teacher:\n",
    "    def __init__(self,name,age,salary):\n",
    "        self.name = name\n",
    "        self.age = age\n",
    "        self.salary = salary\n",
    "    def get_salary(self):\n",
    "        return self.salary\n",
    "class College:\n",
    "    def __init__(self,name,max_teachers):\n",
    "        self.name = name\n",
    "        self.max_teachers = max_teachers\n",
    "        self.teachers = []\n",
    "    def add_teacher(self,teacher):\n",
    "        if len(self.teachers) < self.max_teachers:\n",
    "            self.teachers.append(teacher)\n",
    "            return True\n",
    "        else:\n",
    "            return False\n",
    "    def get_average_salary(self):\n",
    "        total_salary = 0\n",
    "        for t in self.teachers:\n",
    "            total_salary = total_salary + t.get_salary()\n",
    "        avg_salary = total_salary / len(self.teachers)\n",
    "        return avg_salary\n",
    "\n",
    "\n",
    "\n",
    "t1 = Teacher('Robert', 25, 10000)\n",
    "t2 = Teacher('Reid',30, 15000)\n",
    "\n",
    "c1 = College(\"Oxford\",2)\n",
    "c1.add_teacher(t1)\n",
    "c1.add_teacher(t2)\n",
    "\n",
    "print(len(c1.teachers))\n",
    "print(c1.teachers[0].name)\n",
    "print(c1.teachers[1].name)\n",
    "\n",
    "print(\"The Average Salary is \" + str(c1.get_average_salary()))"
   ]
  },
  {
   "cell_type": "code",
   "execution_count": null,
   "metadata": {},
   "outputs": [],
   "source": [
    "# %load .\\Python_basics\\Q_OOPs+Basics+-+Class+Attributes.txt\n",
    "class Pet\n",
    "    number_of_pets = 0\n",
    "    def __init__(self,name, age)\n",
    "        self.name = name\n",
    "        self.age = age\n",
    "        Pet.number_of_pets += 1\n",
    "\n",
    "p1 = Pet('cat',1)\n",
    "p2 = Pet('dog',2)\n",
    "p3 = Pet('cow',5)\n",
    "print(Pet.number_of_pets)\n",
    "\n"
   ]
  },
  {
   "cell_type": "code",
   "execution_count": null,
   "metadata": {},
   "outputs": [],
   "source": [
    "# %load .\\Python_basics\\Q_Work+with+Envoirnment+Variable.txt\n",
    "import os\n",
    "\n",
    "# Print the list of user's\n",
    "# environment variables\n",
    "print(\"User's Environment variable:\")\n",
    "print(dict(env_var))\n",
    "\n",
    "# Get the value of\n",
    "# 'foo' environment variable\n",
    "#export foo=bar in the Local Operating System\n",
    "foo = os.environ['foo']\n",
    "foo = os.environ.get('foo')\n",
    "\n",
    "# Modify the value of\n",
    "# 'foo'  environment variable \n",
    "os.environ['foo'] = 'tar'\n",
    "\n",
    "# Add a new environment variable \n",
    "os.environ['learnSpark1'] = 'www.learn-spark.info'\n",
    "\n",
    "# If the key does not exists\n",
    "# it will produce an error"
   ]
  },
  {
   "cell_type": "code",
   "execution_count": null,
   "metadata": {},
   "outputs": [],
   "source": [
    "# %load .\\Python_basics\\R_1_name.py\n",
    "import welcome as w\n",
    "\n",
    "print(w.fun())\n",
    "\n",
    "def main():\n",
    "    print(\"Inside name Script\")\n",
    "    print(__name__)\n",
    "\n",
    "if __name__ == '__main__' :\n",
    "    main()"
   ]
  },
  {
   "cell_type": "code",
   "execution_count": null,
   "metadata": {},
   "outputs": [],
   "source": [
    "# %load .\\Python_basics\\R_2_welcome.py\n",
    "def fun():\n",
    "    print(\"Inside Welcome Script !!!\")\n",
    "    print(__name__)\n"
   ]
  },
  {
   "cell_type": "code",
   "execution_count": null,
   "metadata": {},
   "outputs": [],
   "source": [
    "# %load .\\Python_basics\\S_Exception+Handling+in+Python.txt\n",
    "###\n",
    "print(sal)\n",
    "#Exit Code as 1\n",
    "\n",
    "### Now Handle the error:\n",
    "try:\n",
    "    print(sal)\n",
    "except NameError:\n",
    "    print(\"An Exception Occured\")\n",
    "except Exception: #or use just except :\n",
    "    print(\"An Exception Occured here ...\")\n",
    "else:\n",
    "    print(\"No Error. The Code Executed Successfully !\")\n",
    "finally:\n",
    "    print(\"This would always be executed.\")\n",
    "#Exit Code 0\n",
    "\n",
    "### Exception Argument:\n",
    "try:\n",
    "    print(sal)\n",
    "except NameError as Argument:\n",
    "    print(\"An Exception Occured\", Argument)\n",
    "else:\n",
    "    print(\"No Error. The Code Executed Successfully !\", Argument)\n",
    "\n",
    "\t\n",
    "### User Defined Exception:\n",
    "sal = -1\n",
    "try:\n",
    "    if sal < 0 :\n",
    "        raise Exception('Salary Can not be Less Than 0.')\n",
    "except Exception as Argument:\n",
    "    print(\"An Exception Occured. \", Argument)\n",
    "\n",
    "### What a Production Set up looks like\n",
    "import sys\n",
    "sal = -1\n",
    "try:\n",
    "    if sal < 0 :\n",
    "        raise Exception('Salary Can not be Less Than 0.')\n",
    "except Exception as Argument:\n",
    "    print(\"An Exception Occured. \", Argument)\n",
    "    #logger.error(\"Error Occured\" + Arguemnt)\n",
    "    #Log the Error in the database\n",
    "    #Send an Email Notification\n",
    "    #raise\n",
    "    #sys.exit(0)\n"
   ]
  },
  {
   "cell_type": "code",
   "execution_count": null,
   "metadata": {},
   "outputs": [],
   "source": [
    "# %load .\\Python_basics\\T_Traceback+Exceptions+in+Python.txt\n",
    "##### Understanding Tracebook Module and its function print_exc()\n",
    "###exception_handling.py\n",
    "import traceback as tb\n",
    "def test():\n",
    "    sal = -1\n",
    "    try:\n",
    "        if sal < 0 :\n",
    "            raise Exception('Salary Can not be Less Than 0.')\n",
    "    except Exception as Argument:\n",
    "        print(\"An Exception Occured. \", Argument)\n",
    "        raise\n",
    "\t\t\n",
    "###outer.py\t\t\n",
    "import exception_handling as eh\n",
    "import sys\n",
    "import traceback as tb\n",
    "\n",
    "def main():\n",
    "    try:\n",
    "        eh.test()\n",
    "    except:\n",
    "        print(tb.print_exc())\n",
    "\t\tsys.exit(1)\n",
    "\n",
    "if __name__ == '__main__':\n",
    "    main()\n",
    "\n",
    "##### Perform Backtrace operations using exc_info() function of sys module.\n",
    "###exception_handling.py\n",
    "def test():\n",
    "\n",
    "    try:\n",
    "        if sal < 0 :\n",
    "            raise Exception('Salary Can not be Less Than 0.')\n",
    "    except NameError as Argument:\n",
    "        print(\"An Exception Occured. \", Argument)\n",
    "        raise\n",
    "\n",
    "\t\t\n",
    "###outer.py\t\t\n",
    "import exception_handling as eh\n",
    "import sys\n",
    "import traceback as tb\n",
    "\n",
    "def main():\n",
    "    try:\n",
    "        eh.test()\n",
    "    except:\n",
    "        ob = sys.exc_info()[2]\n",
    "        print(ob.tb_lineno)\n",
    "        print(ob.tb_frame)\n",
    "        print(ob.tb_next.tb_lineno)\n",
    "        print(ob.tb_next.tb_frame)\n",
    "\n",
    "if __name__ == '__main__':\n",
    "    main()"
   ]
  },
  {
   "cell_type": "code",
   "execution_count": null,
   "metadata": {},
   "outputs": [],
   "source": []
  },
  {
   "cell_type": "code",
   "execution_count": null,
   "metadata": {},
   "outputs": [],
   "source": []
  },
  {
   "cell_type": "markdown",
   "metadata": {
    "id": "BHhoLHJbQu3-"
   },
   "source": [
    "# Object-Oriented Programming"
   ]
  },
  {
   "cell_type": "markdown",
   "metadata": {
    "id": "LATTLUdSQu4D"
   },
   "source": [
    "## Class"
   ]
  },
  {
   "cell_type": "markdown",
   "metadata": {
    "id": "B-6pr-__Qu4D"
   },
   "source": [
    "- Each class has its defined attributes and methods"
   ]
  },
  {
   "cell_type": "code",
   "execution_count": null,
   "metadata": {
    "id": "Pg9BPrgpQu4F"
   },
   "outputs": [],
   "source": [
    "# Define a class\n",
    "class Employee:\n",
    "\n",
    "    # Constructor method\n",
    "    def __init__(self, first, last, pay):\n",
    "        self.first = first\n",
    "        self.last = last\n",
    "        self.email = first + '.' + last + '@email.com'\n",
    "        self.pay = pay\n",
    "\n",
    "    # instance method\n",
    "    def fullname(self):\n",
    "        return '{} {}'.format(self.first, self.last)\n",
    "\n",
    "emp_1 = Employee('Corey', 'Schafer', 50000)\n",
    "emp_2 = Employee('Test', 'Employee', 60000)\n"
   ]
  },
  {
   "cell_type": "markdown",
   "metadata": {
    "id": "obVbXja6Qu4H"
   },
   "source": [
    "## Types of Methods"
   ]
  },
  {
   "cell_type": "markdown",
   "metadata": {
    "id": "l9R6XKyBQu4I"
   },
   "source": [
    "- **Class** Method: a method bound to the class and with `cls` as the first default argument\n",
    "- **Static** Method: a self-contained method bound to the class\n",
    "- **Instance** Method: a method bound to the object instance of the class with `self` as the first default argument"
   ]
  },
  {
   "cell_type": "code",
   "execution_count": null,
   "metadata": {
    "id": "H96VGTTMQu4I",
    "outputId": "e3258d49-35c8-4fb0-9e4d-a71bd83c5f4d"
   },
   "outputs": [
    {
     "name": "stdout",
     "output_type": "stream",
     "text": [
      "1.05\n",
      "1.05\n",
      "1.05\n",
      "John.Doe@email.com\n",
      "70000\n",
      "True\n"
     ]
    }
   ],
   "source": [
    "class Employee:\n",
    "\n",
    "    num_of_emps = 0\n",
    "    raise_amt = 1.04\n",
    "\n",
    "    def __init__(self, first, last, pay):\n",
    "        self.first = first\n",
    "        self.last = last\n",
    "        self.email = first + '.' + last + '@email.com'\n",
    "        self.pay = pay\n",
    "\n",
    "        Employee.num_of_emps += 1\n",
    "\n",
    "    def fullname(self):\n",
    "        return '{} {}'.format(self.first, self.last)\n",
    "\n",
    "    def apply_raise(self):\n",
    "        self.pay = int(self.pay * self.raise_amt)\n",
    "\n",
    "    @classmethod\n",
    "    def set_raise_amt(cls, amount):\n",
    "        cls.raise_amt = amount\n",
    "\n",
    "    @classmethod\n",
    "    def from_string(cls, emp_str):\n",
    "        first, last, pay = emp_str.split('-')\n",
    "        return cls(first, last, pay)\n",
    "\n",
    "    @staticmethod\n",
    "    def is_workday(day):\n",
    "        if day.weekday() == 5 or day.weekday() == 6:\n",
    "            return False\n",
    "        return True\n",
    "\n",
    "\n",
    "emp_1 = Employee('Corey', 'Schafer', 50000)\n",
    "emp_2 = Employee('Test', 'Employee', 60000)\n",
    "\n",
    "Employee.set_raise_amt(1.05)\n",
    "\n",
    "print(Employee.raise_amt)\n",
    "print(emp_1.raise_amt)\n",
    "print(emp_2.raise_amt)\n",
    "\n",
    "emp_str_1 = 'John-Doe-70000'\n",
    "emp_str_2 = 'Steve-Smith-30000'\n",
    "emp_str_3 = 'Jane-Doe-90000'\n",
    "\n",
    "first, last, pay = emp_str_1.split('-')\n",
    "\n",
    "#new_emp_1 = Employee(first, last, pay)\n",
    "new_emp_1 = Employee.from_string(emp_str_1)\n",
    "\n",
    "print(new_emp_1.email)\n",
    "print(new_emp_1.pay)\n",
    "\n",
    "import datetime\n",
    "my_date = datetime.date(2016, 7, 11)\n",
    "\n",
    "print(Employee.is_workday(my_date))"
   ]
  },
  {
   "cell_type": "markdown",
   "metadata": {
    "id": "Kf_x1mJMQu4L"
   },
   "source": [
    "## Class Inheritance"
   ]
  },
  {
   "cell_type": "markdown",
   "metadata": {
    "id": "HHbAc1CgQu4L"
   },
   "source": [
    "- The key of OOP\n",
    "- Extend the original class constructor methods using `super()`\n"
   ]
  },
  {
   "cell_type": "code",
   "execution_count": null,
   "metadata": {
    "id": "NsZe1m6bQu4N",
    "outputId": "33c6f537-e659-42c5-b47b-ad4c40c06a8b"
   },
   "outputs": [
    {
     "name": "stdout",
     "output_type": "stream",
     "text": [
      "Sue.Smith@email.com\n",
      "--> Corey Schafer\n"
     ]
    }
   ],
   "source": [
    "class Employee:\n",
    "\n",
    "    raise_amt = 1.04\n",
    "\n",
    "    def __init__(self, first, last, pay):\n",
    "        self.first = first\n",
    "        self.last = last\n",
    "        self.email = first + '.' + last + '@email.com'\n",
    "        self.pay = pay\n",
    "\n",
    "    def fullname(self):\n",
    "        return '{} {}'.format(self.first, self.last)\n",
    "\n",
    "    def apply_raise(self):\n",
    "        self.pay = int(self.pay * self.raise_amt)\n",
    "\n",
    "\n",
    "class Developer(Employee):\n",
    "    raise_amt = 1.10\n",
    "\n",
    "    def __init__(self, first, last, pay, prog_lang):\n",
    "        super().__init__(first, last, pay)\n",
    "        self.prog_lang = prog_lang\n",
    "\n",
    "\n",
    "class Manager(Employee):\n",
    "\n",
    "    def __init__(self, first, last, pay, employees=None):\n",
    "        super().__init__(first, last, pay)\n",
    "        if employees is None:\n",
    "            self.employees = []\n",
    "        else:\n",
    "            self.employees = employees\n",
    "\n",
    "    def add_emp(self, emp):\n",
    "        if emp not in self.employees:\n",
    "            self.employees.append(emp)\n",
    "\n",
    "    def remove_emp(self, emp):\n",
    "        if emp in self.employees:\n",
    "            self.employees.remove(emp)\n",
    "\n",
    "    def print_emps(self):\n",
    "        for emp in self.employees:\n",
    "            print('-->', emp.fullname())\n",
    "\n",
    "\n",
    "dev_1 = Developer('Corey', 'Schafer', 50000, 'Python')\n",
    "dev_2 = Developer('Test', 'Employee', 60000, 'Java')\n",
    "\n",
    "mgr_1 = Manager('Sue', 'Smith', 90000, [dev_1])\n",
    "\n",
    "print(mgr_1.email)\n",
    "\n",
    "mgr_1.add_emp(dev_2)\n",
    "mgr_1.remove_emp(dev_2)\n",
    "\n",
    "mgr_1.print_emps()"
   ]
  },
  {
   "cell_type": "markdown",
   "metadata": {
    "id": "ySvG7LgqQu4O"
   },
   "source": [
    "## Special Methods\n"
   ]
  },
  {
   "cell_type": "markdown",
   "metadata": {
    "id": "SFeCxeSjQu4P"
   },
   "source": [
    "- Dunder methods (double-underscore)\n",
    "- To avoid overloading the expressions in coding"
   ]
  },
  {
   "cell_type": "code",
   "execution_count": null,
   "metadata": {
    "id": "WYjZTXBYQu4P",
    "outputId": "7a5e7c1c-3f47-48a7-c53c-1385b8cbb7fa"
   },
   "outputs": [
    {
     "name": "stdout",
     "output_type": "stream",
     "text": [
      "13\n"
     ]
    }
   ],
   "source": [
    "class Employee:\n",
    "\n",
    "    raise_amt = 1.04\n",
    "\n",
    "    def __init__(self, first, last, pay):\n",
    "        self.first = first\n",
    "        self.last = last\n",
    "        self.email = first + '.' + last + '@email.com'\n",
    "        self.pay = pay\n",
    "\n",
    "    def fullname(self):\n",
    "        return '{} {}'.format(self.first, self.last)\n",
    "\n",
    "    def apply_raise(self):\n",
    "        self.pay = int(self.pay * self.raise_amt)\n",
    "\n",
    "    def __repr__(self):\n",
    "        return \"Employee('{}', '{}', {})\".format(self.first, self.last, self.pay)\n",
    "\n",
    "    def __str__(self):\n",
    "        return '{} - {}'.format(self.fullname(), self.email)\n",
    "\n",
    "    def __add__(self, other):\n",
    "        return self.pay + other.pay\n",
    "\n",
    "    def __len__(self):\n",
    "        return len(self.fullname())\n",
    "\n",
    "\n",
    "emp_1 = Employee('Corey', 'Schafer', 50000)\n",
    "emp_2 = Employee('Test', 'Employee', 60000)\n",
    "\n",
    "# print(emp_1 + emp_2)\n",
    "\n",
    "print(len(emp_1))"
   ]
  },
  {
   "cell_type": "markdown",
   "metadata": {
    "id": "P2BZHX9SQu4Q"
   },
   "source": [
    "## Property Decorator"
   ]
  },
  {
   "cell_type": "markdown",
   "metadata": {
    "id": "Uc-CmTF1Qu4Q"
   },
   "source": [
    "- `@property`: make a method function like attribute-accessing\n",
    "- `@NAME.setter`: make a method function like class-attribute assigning\n",
    "- `@NAME.deleter`: make a method function like class-attribute deleting"
   ]
  },
  {
   "cell_type": "code",
   "execution_count": null,
   "metadata": {
    "id": "5Ck6ir9gQu4Q"
   },
   "outputs": [],
   "source": [
    "class Employee:\n",
    "\n",
    "    def __init__(self, first, last):\n",
    "        self.first = first\n",
    "        self.last = last\n",
    "\n",
    "    @property\n",
    "    def email(self):\n",
    "        return '{}.{}@email.com'.format(self.first, self.last)\n",
    "\n",
    "    @property\n",
    "    def fullname(self):\n",
    "        return '{} {}'.format(self.first, self.last)\n",
    "    \n",
    "    @fullname.setter\n",
    "    def fullname(self, name):\n",
    "        first, last = name.split(' ')\n",
    "        self.first = first\n",
    "        self.last = last\n",
    "    \n",
    "    @fullname.deleter\n",
    "    def fullname(self):\n",
    "        print('Delete Name!')\n",
    "        self.first = None\n",
    "        self.last = None\n",
    "\n",
    "\n",
    "emp_1 = Employee('John', 'Smith')\n",
    "emp_1.fullname = \"Corey Schafer\"\n",
    "\n",
    "print(emp_1.first)\n",
    "print(emp_1.email)\n",
    "print(emp_1.fullname)\n",
    "\n",
    "del emp_1.fullname"
   ]
  },
  {
   "cell_type": "markdown",
   "metadata": {
    "id": "_dHIOEKKQu4R"
   },
   "source": [
    "## Checking Functions"
   ]
  },
  {
   "cell_type": "markdown",
   "metadata": {
    "id": "l3KkXRuXQu4R"
   },
   "source": [
    "- `isinstance()`: Check an instance's type\n",
    "- `issubclass()`: Check class inheritance"
   ]
  },
  {
   "cell_type": "markdown",
   "metadata": {
    "id": "nu0zCiGVQu4S"
   },
   "source": [
    "## Name Mangling"
   ]
  },
  {
   "cell_type": "markdown",
   "metadata": {
    "id": "96H8BGIPQu4S"
   },
   "source": [
    "- `__NAME`: Any identifier of this form within the class is textually replaced with `_classname__NAME`, where `classname` is the current class name, with leading underscore(s) stripped.\n",
    "- This is for the purpose of creating **private** variables to the class."
   ]
  },
  {
   "cell_type": "markdown",
   "metadata": {
    "id": "cUdOq-RSQu4T"
   },
   "source": [
    "## Reference\n",
    "\n",
    "- This notebook is based on [Corey Schafer's OOP Tutorial](https://www.youtube.com/playlist?list=PL-osiE80TeTsqhIuOqKhwlXsIBIdSeYtc)"
   ]
  }
 ],
 "metadata": {
  "colab": {
   "name": "oop.ipynb",
   "provenance": []
  },
  "kernelspec": {
   "display_name": "Python 3 (ipykernel)",
   "language": "python",
   "name": "python3"
  },
  "language_info": {
   "codemirror_mode": {
    "name": "ipython",
    "version": 3
   },
   "file_extension": ".py",
   "mimetype": "text/x-python",
   "name": "python",
   "nbconvert_exporter": "python",
   "pygments_lexer": "ipython3",
   "version": "3.9.7"
  },
  "toc": {
   "base_numbering": 1,
   "nav_menu": {},
   "number_sections": false,
   "sideBar": true,
   "skip_h1_title": false,
   "title_cell": "Table of Contents",
   "title_sidebar": "Contents",
   "toc_cell": false,
   "toc_position": {},
   "toc_section_display": true,
   "toc_window_display": true
  },
  "varInspector": {
   "cols": {
    "lenName": 16,
    "lenType": 16,
    "lenVar": 40
   },
   "kernels_config": {
    "python": {
     "delete_cmd_postfix": "",
     "delete_cmd_prefix": "del ",
     "library": "var_list.py",
     "varRefreshCmd": "print(var_dic_list())"
    },
    "r": {
     "delete_cmd_postfix": ") ",
     "delete_cmd_prefix": "rm(",
     "library": "var_list.r",
     "varRefreshCmd": "cat(var_dic_list()) "
    }
   },
   "types_to_exclude": [
    "module",
    "function",
    "builtin_function_or_method",
    "instance",
    "_Feature"
   ],
   "window_display": false
  }
 },
 "nbformat": 4,
 "nbformat_minor": 1
}
