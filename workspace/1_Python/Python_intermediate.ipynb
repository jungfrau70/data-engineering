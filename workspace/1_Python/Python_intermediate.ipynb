{
 "cells": [
  {
   "cell_type": "code",
   "execution_count": 3,
   "metadata": {},
   "outputs": [
    {
     "name": "stdout",
     "output_type": "stream",
     "text": [
      " D 드라이브의 볼륨: D\n",
      " 볼륨 일련 번호: F4F4-74BD\n",
      "\n",
      " D:\\workspace\\data-engineering\\Step3_python 디렉터리\n",
      "\n",
      "2022-01-30  오후 07:17    <DIR>          .\n",
      "2022-01-30  오후 06:27    <DIR>          ..\n",
      "2022-01-30  오후 07:09    <DIR>          .ipynb_checkpoints\n",
      "2022-01-23  오후 07:31                57 basic.py\n",
      "2022-01-23  오후 10:09    <DIR>          Python\n",
      "2022-01-30  오후 07:07            29,267 Python_basics.ipynb\n",
      "2022-01-30  오후 07:17            23,587 Python_intermediate.ipynb\n",
      "2022-01-23  오후 08:24    <DIR>          util\n",
      "               3개 파일              52,911 바이트\n",
      "               5개 디렉터리  1,839,204,376,576 바이트 남음\n"
     ]
    }
   ],
   "source": [
    "!dir"
   ]
  },
  {
   "cell_type": "code",
   "execution_count": 4,
   "metadata": {},
   "outputs": [],
   "source": [
    "f = open(\"demo.txt\",\"rt\") #r for read and t for text are default values"
   ]
  },
  {
   "cell_type": "code",
   "execution_count": 5,
   "metadata": {},
   "outputs": [
    {
     "data": {
      "text/plain": [
       "'abcdefghijklmnopqrstuvwxyz\\n1\\n2\\n3\\n4\\n5\\n6\\n7\\n8\\n9'"
      ]
     },
     "execution_count": 5,
     "metadata": {},
     "output_type": "execute_result"
    }
   ],
   "source": [
    "f.read()"
   ]
  },
  {
   "cell_type": "code",
   "execution_count": 6,
   "metadata": {},
   "outputs": [
    {
     "data": {
      "text/plain": [
       "''"
      ]
     },
     "execution_count": 6,
     "metadata": {},
     "output_type": "execute_result"
    }
   ],
   "source": [
    "f.read()"
   ]
  },
  {
   "cell_type": "code",
   "execution_count": 7,
   "metadata": {},
   "outputs": [],
   "source": [
    "f.close()"
   ]
  },
  {
   "cell_type": "code",
   "execution_count": 8,
   "metadata": {},
   "outputs": [],
   "source": [
    "f = open(\"demo.txt\",\"rt\")"
   ]
  },
  {
   "cell_type": "code",
   "execution_count": 9,
   "metadata": {},
   "outputs": [
    {
     "data": {
      "text/plain": [
       "'abcde'"
      ]
     },
     "execution_count": 9,
     "metadata": {},
     "output_type": "execute_result"
    }
   ],
   "source": [
    "f.read(5)"
   ]
  },
  {
   "cell_type": "code",
   "execution_count": 10,
   "metadata": {},
   "outputs": [
    {
     "data": {
      "text/plain": [
       "'fghijklmno'"
      ]
     },
     "execution_count": 10,
     "metadata": {},
     "output_type": "execute_result"
    }
   ],
   "source": [
    "f.read(10)"
   ]
  },
  {
   "cell_type": "code",
   "execution_count": 11,
   "metadata": {},
   "outputs": [],
   "source": [
    "str = f.read(10)"
   ]
  },
  {
   "cell_type": "code",
   "execution_count": 12,
   "metadata": {},
   "outputs": [
    {
     "data": {
      "text/plain": [
       "'pqrstuvwxy'"
      ]
     },
     "execution_count": 12,
     "metadata": {},
     "output_type": "execute_result"
    }
   ],
   "source": [
    "str"
   ]
  },
  {
   "cell_type": "code",
   "execution_count": 13,
   "metadata": {},
   "outputs": [
    {
     "name": "stdout",
     "output_type": "stream",
     "text": [
      "pqrstuvwxy\n"
     ]
    }
   ],
   "source": [
    "print(str)"
   ]
  },
  {
   "cell_type": "code",
   "execution_count": 15,
   "metadata": {},
   "outputs": [],
   "source": [
    "# Check current position\n",
    "position = f.tell()"
   ]
  },
  {
   "cell_type": "code",
   "execution_count": 16,
   "metadata": {},
   "outputs": [
    {
     "data": {
      "text/plain": [
       "int"
      ]
     },
     "execution_count": 16,
     "metadata": {},
     "output_type": "execute_result"
    }
   ],
   "source": [
    "type(position)"
   ]
  },
  {
   "cell_type": "code",
   "execution_count": 19,
   "metadata": {},
   "outputs": [],
   "source": [
    "del str"
   ]
  },
  {
   "cell_type": "code",
   "execution_count": 20,
   "metadata": {},
   "outputs": [
    {
     "data": {
      "text/plain": [
       "'25'"
      ]
     },
     "execution_count": 20,
     "metadata": {},
     "output_type": "execute_result"
    }
   ],
   "source": [
    "str(position)"
   ]
  },
  {
   "cell_type": "code",
   "execution_count": 21,
   "metadata": {},
   "outputs": [
    {
     "name": "stdout",
     "output_type": "stream",
     "text": [
      "Current Position is : 25\n"
     ]
    }
   ],
   "source": [
    "print(\"Current Position is : \" + str(position))"
   ]
  },
  {
   "cell_type": "code",
   "execution_count": 22,
   "metadata": {},
   "outputs": [],
   "source": [
    "# Reposition pointer at the beginning once again\n",
    "position = f.seek(0)"
   ]
  },
  {
   "cell_type": "code",
   "execution_count": 23,
   "metadata": {},
   "outputs": [
    {
     "name": "stdout",
     "output_type": "stream",
     "text": [
      "Current Position is : 0\n"
     ]
    }
   ],
   "source": [
    "print(\"Current Position is : \" + str(position))"
   ]
  },
  {
   "cell_type": "code",
   "execution_count": 24,
   "metadata": {},
   "outputs": [
    {
     "name": "stdout",
     "output_type": "stream",
     "text": [
      "Again read String is :  abcdefghij\n"
     ]
    }
   ],
   "source": [
    "string = f.read(10)\n",
    "print(\"Again read String is : \", string)"
   ]
  },
  {
   "cell_type": "code",
   "execution_count": 25,
   "metadata": {},
   "outputs": [],
   "source": [
    "f.close()"
   ]
  },
  {
   "cell_type": "code",
   "execution_count": null,
   "metadata": {},
   "outputs": [],
   "source": []
  },
  {
   "cell_type": "code",
   "execution_count": 26,
   "metadata": {},
   "outputs": [],
   "source": [
    "f = open(\"demo.txt\",\"rt\")"
   ]
  },
  {
   "cell_type": "code",
   "execution_count": 28,
   "metadata": {},
   "outputs": [
    {
     "data": {
      "text/plain": [
       "0"
      ]
     },
     "execution_count": 28,
     "metadata": {},
     "output_type": "execute_result"
    }
   ],
   "source": [
    "f.seek(0)"
   ]
  },
  {
   "cell_type": "code",
   "execution_count": 29,
   "metadata": {},
   "outputs": [
    {
     "name": "stdout",
     "output_type": "stream",
     "text": [
      "abcdefghijk lmnopqrstuvwxyz\n",
      "\n",
      "1\n",
      "\n",
      "2\n",
      "\n",
      "3\n",
      "\n",
      "4\n",
      "\n",
      "5\n",
      "\n",
      "6\n",
      "\n",
      "7\n",
      "\n",
      "8\n",
      "\n",
      "9\n"
     ]
    }
   ],
   "source": [
    "for i in f:\n",
    "    print(i)"
   ]
  },
  {
   "cell_type": "code",
   "execution_count": 30,
   "metadata": {},
   "outputs": [
    {
     "data": {
      "text/plain": [
       "54"
      ]
     },
     "execution_count": 30,
     "metadata": {},
     "output_type": "execute_result"
    }
   ],
   "source": [
    "f.tell()"
   ]
  },
  {
   "cell_type": "code",
   "execution_count": 31,
   "metadata": {},
   "outputs": [],
   "source": [
    "f.close()"
   ]
  },
  {
   "cell_type": "code",
   "execution_count": 32,
   "metadata": {},
   "outputs": [
    {
     "data": {
      "text/plain": [
       "5"
      ]
     },
     "execution_count": 32,
     "metadata": {},
     "output_type": "execute_result"
    }
   ],
   "source": [
    "f = open(\"demo.txt\",\"a\")\n",
    "f.write(\"Hello\")"
   ]
  },
  {
   "cell_type": "code",
   "execution_count": 33,
   "metadata": {},
   "outputs": [
    {
     "data": {
      "text/plain": [
       "59"
      ]
     },
     "execution_count": 33,
     "metadata": {},
     "output_type": "execute_result"
    }
   ],
   "source": [
    "f.tell()"
   ]
  },
  {
   "cell_type": "code",
   "execution_count": 34,
   "metadata": {},
   "outputs": [
    {
     "data": {
      "text/plain": [
       "'abcdefghijk lmnopqrstuvwxyz\\n1\\n2\\n3\\n4\\n5\\n6\\n7\\n8\\n9Hello'"
      ]
     },
     "execution_count": 34,
     "metadata": {},
     "output_type": "execute_result"
    }
   ],
   "source": [
    "f = open(\"demo.txt\",\"r\")\n",
    "f.read()"
   ]
  },
  {
   "cell_type": "code",
   "execution_count": 35,
   "metadata": {},
   "outputs": [],
   "source": [
    "# ### Create a new file\n",
    "# \"x\" - Create - will create a file, returns an error if the file exist\n",
    "# \"a\" - Append - will create a file if the specified file does not exist\n",
    "# \"w\" - Write - will create a file if the specified file does not exist\n",
    "\n",
    "f = open(\"myfile.txt\", \"x\") #  new empty file is created!"
   ]
  },
  {
   "cell_type": "code",
   "execution_count": null,
   "metadata": {},
   "outputs": [],
   "source": [
    "f = open(\"myfile.txt\", \"w\")"
   ]
  },
  {
   "cell_type": "code",
   "execution_count": 36,
   "metadata": {},
   "outputs": [],
   "source": [
    "f.close()"
   ]
  },
  {
   "cell_type": "code",
   "execution_count": 38,
   "metadata": {},
   "outputs": [],
   "source": [
    "import os"
   ]
  },
  {
   "cell_type": "code",
   "execution_count": 41,
   "metadata": {},
   "outputs": [
    {
     "name": "stdout",
     "output_type": "stream",
     "text": [
      " D 드라이브의 볼륨: D\n",
      " 볼륨 일련 번호: F4F4-74BD\n",
      "\n",
      " D:\\workspace\\data-engineering\\Step3_python 디렉터리\n",
      "\n",
      "2022-01-30  오후 07:45    <DIR>          .\n",
      "2022-01-30  오후 06:27    <DIR>          ..\n",
      "2022-01-30  오후 07:09    <DIR>          .ipynb_checkpoints\n",
      "2022-01-23  오후 07:31                57 basic.py\n",
      "2022-01-30  오후 07:37                59 demo.txt\n",
      "2022-01-30  오후 07:39                 0 newMyfile.txt\n",
      "2022-01-23  오후 10:09    <DIR>          Python\n",
      "2022-01-30  오후 07:07            29,267 Python_basics.ipynb\n",
      "2022-01-30  오후 07:45            34,027 Python_intermediate.ipynb\n",
      "2022-01-23  오후 08:24    <DIR>          util\n",
      "               5개 파일              63,410 바이트\n",
      "               5개 디렉터리  1,839,204,364,288 바이트 남음\n"
     ]
    }
   ],
   "source": [
    "!dir"
   ]
  },
  {
   "cell_type": "code",
   "execution_count": 43,
   "metadata": {},
   "outputs": [],
   "source": [
    "### Rename a File\n",
    "os.rename('newMyfile.txt', 'myfile.txt')"
   ]
  },
  {
   "cell_type": "code",
   "execution_count": null,
   "metadata": {},
   "outputs": [],
   "source": [
    "# %load .\\Python\\M_Practice+Code+for+File+Handling.txt\n",
    "### open():\n",
    "f = open(\"demo.txt\",\"rt\") #r for read and t for text are default values\n",
    "\n",
    "### read():\n",
    "f.read()\n",
    "f.read(5)  # Read first 5 characters\n",
    "f.read(10)  # Next 10 characters\n",
    " \n",
    "string = f.read(10)\n",
    "print(string)\n",
    "\n",
    "# Check current position\n",
    "position = f.tell()\n",
    "print(\"Current Position is : \" + str(position))\n",
    "\n",
    "# Reposition pointer at the beginning once again\n",
    "position = f.seek(0)\n",
    "string = f.read(10)\n",
    "print(\"Again read String is : \", string)\n",
    "\n",
    "f.close()\n",
    " \n",
    "### readline():\n",
    "Read one line of the file.\n",
    "f.readline()\n",
    " \n",
    "### Loop through the file line by line:\n",
    "for x in f:\n",
    "  print(x)\n",
    "  \n",
    "### Close the file\n",
    "f.close()\n",
    "\n",
    "### write()\n",
    " \"w\" - Will overwrite any existing content\n",
    " \"a\" - Append to end of file\n",
    " \n",
    "f = open(\"demo.txt\",\"a\")\n",
    "f.write(\"Hello\")\n",
    "\n",
    "f = open(\"demo.txt\",\"r\")\n",
    "f.read()\n",
    "\n",
    "### Create a new file\n",
    "\"x\" - Create - will create a file, returns an error if the file exist\n",
    "\"a\" - Append - will create a file if the specified file does not exist\n",
    "\"w\" - Write - will create a file if the specified file does not exist\n",
    "\n",
    "f = open(\"myfile.txt\", \"x\") #  new empty file is created!\n",
    "f = open(\"myfile.txt\", \"w\")\n",
    "\n",
    "### Rename a File\n",
    "os.rename(myfile.txt, newMyfile.txt)\n",
    "\n",
    "### Delete a File \n",
    "import os\n",
    "os.remove(\"myfile.txt\")\n",
    "\n",
    "\n",
    "### Check if File Exist\n",
    "import os\n",
    "if os.path.exists(\"myfile.txt\"):\n",
    "  os.remove(\"myfile.txt\")\n",
    "else:\n",
    "  print(\"The file does not exist\")\n",
    "  \n",
    "### Delete Folder\n",
    "import os\n",
    "os.rmdir(\"myfolder\")\n",
    "\n",
    "### Create Folder\n",
    "import os\n",
    "os.mkdir(\"newDir\")\n",
    "\n",
    "\n",
    "\n"
   ]
  },
  {
   "cell_type": "code",
   "execution_count": null,
   "metadata": {},
   "outputs": [],
   "source": []
  },
  {
   "cell_type": "code",
   "execution_count": null,
   "metadata": {},
   "outputs": [],
   "source": []
  },
  {
   "cell_type": "code",
   "execution_count": null,
   "metadata": {},
   "outputs": [],
   "source": [
    "# %load .\\Python\\N_OOPs+Basics+Part+1.txt\n",
    "class Person:\n",
    "    def __init__(self,age):\n",
    "        self.new_age = age\n",
    "    def sleep(self,hours):\n",
    "        return str(hours * 60) + 'minutes'\n",
    "\n",
    "robert = Person(20)\n",
    "print(robert.new_age)\n"
   ]
  },
  {
   "cell_type": "code",
   "execution_count": null,
   "metadata": {},
   "outputs": [],
   "source": [
    "# %load .\\Python\\O_OOPs+Basics+Part+2.txt\n",
    "class Person:\n",
    "    def __init__(self,age):\n",
    "        self.new_age = age\n",
    "    def sleep(self,hours):\n",
    "        return str(hours * 60) + 'minutes'\n",
    "    def get_age(self):\n",
    "        return self.new_age\n",
    "    def set_age(self,age):\n",
    "        self.new_age = age\n",
    "\n",
    "robert = Person(20)\n",
    "print(robert.get_age())\n",
    "\n",
    "robert.set_age(25)\n",
    "print(robert.get_age())\n"
   ]
  },
  {
   "cell_type": "code",
   "execution_count": 44,
   "metadata": {},
   "outputs": [
    {
     "name": "stdout",
     "output_type": "stream",
     "text": [
      "2\n",
      "Robert\n",
      "Reid\n",
      "The Average Salary is 12500.0\n"
     ]
    }
   ],
   "source": [
    "# %load .\\Python\\P_OOPs+Basics+Exercises.txt\n",
    "class Teacher:\n",
    "    def __init__(self,name,age,salary):\n",
    "        self.name = name\n",
    "        self.age = age\n",
    "        self.salary = salary\n",
    "    def get_salary(self):\n",
    "        return self.salary\n",
    "class College:\n",
    "    def __init__(self,name,max_teachers):\n",
    "        self.name = name\n",
    "        self.max_teachers = max_teachers\n",
    "        self.teachers = []\n",
    "    def add_teacher(self,teacher):\n",
    "        if len(self.teachers) < self.max_teachers:\n",
    "            self.teachers.append(teacher)\n",
    "            return True\n",
    "        else:\n",
    "            return False\n",
    "    def get_average_salary(self):\n",
    "        total_salary = 0\n",
    "        for t in self.teachers:\n",
    "            total_salary = total_salary + t.get_salary()\n",
    "        avg_salary = total_salary / len(self.teachers)\n",
    "        return avg_salary\n",
    "\n",
    "\n",
    "\n",
    "t1 = Teacher('Robert', 25, 10000)\n",
    "t2 = Teacher('Reid',30, 15000)\n",
    "\n",
    "c1 = College(\"Oxford\",2)\n",
    "c1.add_teacher(t1)\n",
    "c1.add_teacher(t2)\n",
    "\n",
    "print(len(c1.teachers))\n",
    "print(c1.teachers[0].name)\n",
    "print(c1.teachers[1].name)\n",
    "\n",
    "print(\"The Average Salary is \" + str(c1.get_average_salary()))"
   ]
  },
  {
   "cell_type": "code",
   "execution_count": 47,
   "metadata": {},
   "outputs": [
    {
     "name": "stdout",
     "output_type": "stream",
     "text": [
      "3\n"
     ]
    }
   ],
   "source": [
    "# %load .\\Python\\Q_OOPs+Basics+-+Class+Attributes.txt\n",
    "class Pet:\n",
    "    number_of_pets = 0\n",
    "    def __init__(self,name, age):\n",
    "        self.name = name\n",
    "        self.age = age\n",
    "        Pet.number_of_pets += 1\n",
    "\n",
    "p1 = Pet('cat',1)\n",
    "p2 = Pet('dog',2)\n",
    "p3 = Pet('cow',5)\n",
    "print(Pet.number_of_pets)\n",
    "\n"
   ]
  },
  {
   "cell_type": "code",
   "execution_count": 56,
   "metadata": {
    "scrolled": true
   },
   "outputs": [
    {
     "name": "stdout",
     "output_type": "stream",
     "text": [
      "User's Environment variable:\n",
      "{'ALLUSERSPROFILE': 'C:\\\\ProgramData',\n",
      " 'APPDATA': 'C:\\\\Users\\\\inhwa\\\\AppData\\\\Roaming',\n",
      " 'CHOCOLATEYINSTALL': 'C:\\\\ProgramData\\\\chocolatey',\n",
      " 'CHOCOLATEYLASTPATHUPDATE': '132520123327995574',\n",
      " 'CHROME_CRASHPAD_PIPE_NAME': '\\\\\\\\.\\\\pipe\\\\crashpad_26644_QYUIXULEVUATNWMT',\n",
      " 'CLICOLOR': '1',\n",
      " 'COLORTERM': 'truecolor',\n",
      " 'COMMONPROGRAMFILES': 'C:\\\\Program Files\\\\Common Files',\n",
      " 'COMMONPROGRAMFILES(X86)': 'C:\\\\Program Files (x86)\\\\Common Files',\n",
      " 'COMMONPROGRAMW6432': 'C:\\\\Program Files\\\\Common Files',\n",
      " 'COMPUTERNAME': 'DESKTOP-O74KG4H',\n",
      " 'COMSPEC': 'C:\\\\WINDOWS\\\\system32\\\\cmd.exe',\n",
      " 'CONDA_DEFAULT_ENV': 'pipeline',\n",
      " 'CONDA_EXE': 'C:\\\\Anaconda3\\\\Scripts\\\\conda.exe',\n",
      " 'CONDA_PREFIX': 'C:\\\\Anaconda3\\\\envs\\\\pipeline',\n",
      " 'CONDA_PREFIX_1': 'C:\\\\Anaconda3',\n",
      " 'CONDA_PROMPT_MODIFIER': '(pipeline) ',\n",
      " 'CONDA_PYTHON_EXE': 'C:\\\\Anaconda3\\\\python.exe',\n",
      " 'CONDA_SHLVL': '2',\n",
      " 'CUDA_PATH': 'C:\\\\Program Files\\\\NVIDIA GPU Computing Toolkit\\\\CUDA\\\\v11.2',\n",
      " 'DRIVERDATA': 'C:\\\\Windows\\\\System32\\\\Drivers\\\\DriverData',\n",
      " 'FPS_BROWSER_APP_PROFILE_STRING': 'Internet Explorer',\n",
      " 'FPS_BROWSER_USER_PROFILE_STRING': 'Default',\n",
      " 'GIT_ASKPASS': 'c:\\\\Users\\\\inhwa\\\\AppData\\\\Local\\\\Programs\\\\Microsoft VS '\n",
      "                'Code\\\\resources\\\\app\\\\extensions\\\\git\\\\dist\\\\askpass.sh',\n",
      " 'GIT_PAGER': 'cat',\n",
      " 'GOPATH': 'C:\\\\Users\\\\inhwa\\\\go',\n",
      " 'HADOOP_HOME': 'C:\\\\Hadoop\\\\hadoop-3.2.2',\n",
      " 'HOMEDRIVE': 'C:',\n",
      " 'HOMEPATH': '\\\\Users\\\\inhwa',\n",
      " 'IPY_INTERRUPT_EVENT': '3068',\n",
      " 'JAVA_HOME': 'C:\\\\Java\\\\jdk1.8.0_311',\n",
      " 'JPY_INTERRUPT_EVENT': '3068',\n",
      " 'JPY_PARENT_PID': '3064',\n",
      " 'LANG': 'ko_KR.UTF-8',\n",
      " 'LOCALAPPDATA': 'C:\\\\Users\\\\inhwa\\\\AppData\\\\Local',\n",
      " 'LOGONSERVER': '\\\\\\\\DESKTOP-O74KG4H',\n",
      " 'MPLBACKEND': 'module://matplotlib_inline.backend_inline',\n",
      " 'NUMBER_OF_PROCESSORS': '8',\n",
      " 'NVCUDASAMPLES11_0_ROOT': 'C:\\\\ProgramData\\\\NVIDIA Corporation\\\\CUDA '\n",
      "                           'Samples\\\\v11.0',\n",
      " 'NVCUDASAMPLES_ROOT': 'C:\\\\ProgramData\\\\NVIDIA Corporation\\\\CUDA '\n",
      "                       'Samples\\\\v11.0',\n",
      " 'NVTOOLSEXT_PATH': 'C:\\\\Program Files\\\\NVIDIA Corporation\\\\NvToolsExt\\\\',\n",
      " 'ONEDRIVE': 'C:\\\\Users\\\\inhwa\\\\OneDrive',\n",
      " 'ORIGINAL_XDG_CURRENT_DESKTOP': 'undefined',\n",
      " 'OS': 'Windows_NT',\n",
      " 'PAGER': 'cat',\n",
      " 'PATH': 'C:\\\\Anaconda3\\\\envs\\\\pipeline;C:\\\\Anaconda3\\\\envs\\\\pipeline\\\\Library\\\\mingw-w64\\\\bin;C:\\\\Anaconda3\\\\envs\\\\pipeline\\\\Library\\\\usr\\\\bin;C:\\\\Anaconda3\\\\envs\\\\pipeline\\\\Library\\\\bin;C:\\\\Anaconda3\\\\envs\\\\pipeline\\\\Scripts;C:\\\\Anaconda3\\\\envs\\\\pipeline\\\\bin;C:\\\\Anaconda3\\\\condabin;C:\\\\Program '\n",
      "         'Files (x86)\\\\Common Files\\\\Oracle\\\\Java\\\\javapath;C:\\\\Program Files '\n",
      "         '(x86)\\\\VMware\\\\VMware '\n",
      "         'Player\\\\bin;C:\\\\Anaconda3;C:\\\\Anaconda3\\\\Library\\\\mingw-w64\\\\bin;C:\\\\Anaconda3\\\\Library\\\\usr\\\\bin;C:\\\\Anaconda3\\\\Library\\\\bin;C:\\\\Anaconda3\\\\Scripts;C:\\\\cudnn-11.2\\\\cuda\\\\bin;C:\\\\WINDOWS\\\\system32;C:\\\\WINDOWS;C:\\\\WINDOWS\\\\System32\\\\Wbem;C:\\\\WINDOWS\\\\System32\\\\WindowsPowerShell\\\\v1.0;C:\\\\WINDOWS\\\\System32\\\\OpenSSH;C:\\\\Program '\n",
      "         'Files (x86)\\\\NVIDIA Corporation\\\\PhysX\\\\Common;C:\\\\Program '\n",
      "         'Files\\\\Git\\\\cmd;C:\\\\Go\\\\bin;C:\\\\Program '\n",
      "         'Files\\\\Amazon\\\\AWSCLIV2;C:\\\\ProgramData\\\\chocolatey\\\\bin;C:\\\\HashiCorp\\\\Vagrant\\\\bin;C:\\\\Program '\n",
      "         'Files\\\\NVIDIA Corporation\\\\NVIDIA NvDLISR;C:\\\\Program Files '\n",
      "         '(x86)\\\\nodejs;C:\\\\Program Files\\\\NVIDIA Corporation\\\\Nsight Compute '\n",
      "         '2020.1.1;CUDA_PATH;C:\\\\Program '\n",
      "         'Files\\\\Docker\\\\Docker\\\\resources\\\\bin;C:\\\\ProgramData\\\\DockerDesktop\\\\version-bin;C:\\\\WINDOWS\\\\system32;C:\\\\WINDOWS;C:\\\\WINDOWS\\\\System32\\\\Wbem;C:\\\\WINDOWS\\\\System32\\\\WindowsPowerShell\\\\v1.0;C:\\\\WINDOWS\\\\System32\\\\OpenSSH;C:\\\\Program '\n",
      "         'Files\\\\MongoDB\\\\Server\\\\5.0\\\\bin;C:\\\\Spark\\\\spark-3.1.2-bin-hadoop3.2\\\\bin;C:\\\\Hadoop\\\\hadoop-3.2.2\\\\bin;C:\\\\Java\\\\jdk1.8.0_311\\\\bin;C:\\\\Program '\n",
      "         'Files\\\\MySQL\\\\MySQL Shell '\n",
      "         '8.0\\\\bin;C:\\\\Users\\\\inhwa\\\\AppData\\\\Local\\\\Microsoft\\\\WindowsApps;C:\\\\Users\\\\inhwa\\\\AppData\\\\Local\\\\Programs\\\\Microsoft '\n",
      "         'VS Code\\\\bin;C:\\\\Program Files\\\\JetBrains\\\\PyCharm '\n",
      "         '2020.2.3\\\\bin;.;C:\\\\Users\\\\inhwa\\\\skaffold;C:\\\\Users\\\\inhwa\\\\go\\\\bin;C:\\\\Program '\n",
      "         'Files\\\\Multipass\\\\bin;C:\\\\Program Files\\\\JetBrains\\\\PyCharm '\n",
      "         'Community Edition 2020.3.2\\\\bin;.;C:\\\\flutter\\\\bin;C:\\\\Program '\n",
      "         'Files\\\\heroku\\\\bin;C:\\\\Program '\n",
      "         'Files\\\\Docker\\\\Docker\\\\resources\\\\bin;C:\\\\Users\\\\inhwa\\\\AppData\\\\Roaming\\\\npm;.;C:\\\\Program '\n",
      "         'Files (x86)\\\\ESTsoft\\\\ALSee\\\\x64',\n",
      " 'PATHEXT': '.COM;.EXE;.BAT;.CMD;.VBS;.VBE;.JS;.JSE;.WSF;.WSH;.MSC;.PY;.PYW',\n",
      " 'PROCESSOR_ARCHITECTURE': 'AMD64',\n",
      " 'PROCESSOR_IDENTIFIER': 'Intel64 Family 6 Model 158 Stepping 9, GenuineIntel',\n",
      " 'PROCESSOR_LEVEL': '6',\n",
      " 'PROCESSOR_REVISION': '9e09',\n",
      " 'PROGRAMDATA': 'C:\\\\ProgramData',\n",
      " 'PROGRAMFILES': 'C:\\\\Program Files',\n",
      " 'PROGRAMFILES(X86)': 'C:\\\\Program Files (x86)',\n",
      " 'PROGRAMW6432': 'C:\\\\Program Files',\n",
      " 'PROMPT': '(pipeline) $P$G',\n",
      " 'PSMODULEPATH': 'C:\\\\Program '\n",
      "                 'Files\\\\WindowsPowerShell\\\\Modules;C:\\\\WINDOWS\\\\system32\\\\WindowsPowerShell\\\\v1.0\\\\Modules',\n",
      " 'PUBLIC': 'C:\\\\Users\\\\Public',\n",
      " 'PYCHARM': 'C:\\\\Program Files\\\\JetBrains\\\\PyCharm 2020.2.3\\\\bin;',\n",
      " 'PYCHARM COMMUNITY EDITION': 'C:\\\\Program Files\\\\JetBrains\\\\PyCharm Community '\n",
      "                              'Edition 2020.3.2\\\\bin;',\n",
      " 'PYDEVD_USE_FRAME_EVAL': 'NO',\n",
      " 'SESSIONNAME': 'Console',\n",
      " 'SPARK_HOME': 'C:\\\\Spark\\\\spark-3.1.2-bin-hadoop3.2',\n",
      " 'SYSTEMDRIVE': 'C:',\n",
      " 'SYSTEMROOT': 'C:\\\\WINDOWS',\n",
      " 'TEMP': 'C:\\\\Users\\\\inhwa\\\\AppData\\\\Local\\\\Temp',\n",
      " 'TERM': 'xterm-color',\n",
      " 'TERM_PROGRAM': 'vscode',\n",
      " 'TERM_PROGRAM_VERSION': '1.63.2',\n",
      " 'TF_XLA_FLAGS': '--tf_xla_enable_xla_devices',\n",
      " 'TMP': 'C:\\\\Users\\\\inhwa\\\\AppData\\\\Local\\\\Temp',\n",
      " 'USERDOMAIN': 'DESKTOP-O74KG4H',\n",
      " 'USERDOMAIN_ROAMINGPROFILE': 'DESKTOP-O74KG4H',\n",
      " 'USERNAME': 'inhwa',\n",
      " 'USERPROFILE': 'C:\\\\Users\\\\inhwa',\n",
      " 'VS160COMCOMNTOOLS': 'C:\\\\Program Files (x86)\\\\Microsoft Visual '\n",
      "                      'Studio\\\\2019\\\\Community\\\\Common7\\\\Tools\\\\',\n",
      " 'VSCODE_GIT_ASKPASS_EXTRA_ARGS': '--ms-enable-electron-run-as-node',\n",
      " 'VSCODE_GIT_ASKPASS_MAIN': 'c:\\\\Users\\\\inhwa\\\\AppData\\\\Local\\\\Programs\\\\Microsoft '\n",
      "                            'VS '\n",
      "                            'Code\\\\resources\\\\app\\\\extensions\\\\git\\\\dist\\\\askpass-main.js',\n",
      " 'VSCODE_GIT_ASKPASS_NODE': 'C:\\\\Users\\\\inhwa\\\\AppData\\\\Local\\\\Programs\\\\Microsoft '\n",
      "                            'VS Code\\\\Code.exe',\n",
      " 'VSCODE_GIT_IPC_HANDLE': '\\\\\\\\.\\\\pipe\\\\vscode-git-c2fc40205c-sock',\n",
      " 'WINDIR': 'C:\\\\WINDOWS',\n",
      " 'ZES_ENABLE_SYSMAN': '1',\n",
      " '__COMPAT_LAYER': 'DetectorsShimLog'}\n"
     ]
    }
   ],
   "source": [
    "# %load .\\Python\\Q_Work+with+Envoirnment+Variable.txt\n",
    "import os\n",
    "import pprint\n",
    "\n",
    "# Print the list of user's\n",
    "# environment variables\n",
    "print(\"User's Environment variable:\")\n",
    "environ = os.environ\n",
    "pprint.pprint(dict(os.environ))"
   ]
  },
  {
   "cell_type": "code",
   "execution_count": 57,
   "metadata": {},
   "outputs": [
    {
     "data": {
      "text/plain": [
       "'C:\\\\Hadoop\\\\hadoop-3.2.2'"
      ]
     },
     "execution_count": 57,
     "metadata": {},
     "output_type": "execute_result"
    }
   ],
   "source": [
    "os.environ.get('HADOOP_HOME')"
   ]
  },
  {
   "cell_type": "code",
   "execution_count": 65,
   "metadata": {},
   "outputs": [],
   "source": [
    "os.environ['foo'] = 'tar'"
   ]
  },
  {
   "cell_type": "code",
   "execution_count": 66,
   "metadata": {},
   "outputs": [
    {
     "name": "stdout",
     "output_type": "stream",
     "text": [
      "tar\n"
     ]
    }
   ],
   "source": [
    "print(os.environ.get('foo'))"
   ]
  },
  {
   "cell_type": "code",
   "execution_count": null,
   "metadata": {},
   "outputs": [],
   "source": [
    "# %load .\\Python\\Q_Work+with+Envoirnment+Variable.txt\n",
    "import os\n",
    "\n",
    "# Print the list of user's\n",
    "# environment variables\n",
    "print(\"User's Environment variable:\")\n",
    "print(dict(env_var))\n",
    "\n",
    "# Get the value of\n",
    "# 'foo' environment variable\n",
    "#export foo=bar in the Local Operating System\n",
    "foo = os.environ['foo']\n",
    "foo = os.environ.get('foo')\n",
    "\n",
    "# Modify the value of\n",
    "# 'foo'  environment variable \n",
    "os.environ['foo'] = 'tar'\n",
    "\n",
    "# Add a new environment variable \n",
    "os.environ['learnSpark1'] = 'www.learn-spark.info'\n",
    "\n",
    "# If the key does not exists\n",
    "# it will produce an error"
   ]
  },
  {
   "cell_type": "code",
   "execution_count": null,
   "metadata": {},
   "outputs": [],
   "source": [
    "# %load .\\Python\\R_1_name.py\n",
    "import welcome as w\n",
    "\n",
    "print(w.fun())\n",
    "\n",
    "def main():\n",
    "    print(\"Inside name Script\")\n",
    "    print(__name__)\n",
    "\n",
    "if __name__ == '__main__' :\n",
    "    main()"
   ]
  },
  {
   "cell_type": "code",
   "execution_count": null,
   "metadata": {},
   "outputs": [],
   "source": [
    "# %load .\\Pythons\\R_2_welcome.py\n",
    "def fun():\n",
    "    print(\"Inside Welcome Script !!!\")\n",
    "    print(__name__)\n"
   ]
  },
  {
   "cell_type": "code",
   "execution_count": 68,
   "metadata": {},
   "outputs": [],
   "source": [
    "sal = \"Hello\""
   ]
  },
  {
   "cell_type": "code",
   "execution_count": 69,
   "metadata": {},
   "outputs": [
    {
     "name": "stdout",
     "output_type": "stream",
     "text": [
      "Hello\n",
      "No Error. The Code Executed Successfully !\n",
      "This would always be executed.\n"
     ]
    }
   ],
   "source": [
    "### Now Handle the error:\n",
    "try:\n",
    "    print(sal)\n",
    "except NameError:\n",
    "    print(\"An Exception Occured\")\n",
    "except Exception: #or use just except :\n",
    "    print(\"An Exception Occured here ...\")\n",
    "else:\n",
    "    print(\"No Error. The Code Executed Successfully !\")\n",
    "finally:\n",
    "    print(\"This would always be executed.\")"
   ]
  },
  {
   "cell_type": "code",
   "execution_count": 74,
   "metadata": {},
   "outputs": [],
   "source": [
    "del sal"
   ]
  },
  {
   "cell_type": "code",
   "execution_count": 75,
   "metadata": {},
   "outputs": [
    {
     "name": "stdout",
     "output_type": "stream",
     "text": [
      "An Exception Occured name 'sal' is not defined\n"
     ]
    }
   ],
   "source": [
    "### Exception Argument:\n",
    "try:\n",
    "    print(sal)\n",
    "except NameError as Argument:\n",
    "    print(\"An Exception Occured\", Argument)\n",
    "else:\n",
    "    print(\"No Error. The Code Executed Successfully !\", Argument)"
   ]
  },
  {
   "cell_type": "code",
   "execution_count": 76,
   "metadata": {},
   "outputs": [
    {
     "name": "stdout",
     "output_type": "stream",
     "text": [
      "An Exception Occured.  Salary Can not be Less Than 0.\n"
     ]
    }
   ],
   "source": [
    "### User Defined Exception:\n",
    "sal = -1\n",
    "try:\n",
    "    if sal < 0 :\n",
    "        raise Exception('Salary Can not be Less Than 0.')\n",
    "except Exception as Argument:\n",
    "    print(\"An Exception Occured. \", Argument)"
   ]
  },
  {
   "cell_type": "code",
   "execution_count": 83,
   "metadata": {},
   "outputs": [
    {
     "name": "stdout",
     "output_type": "stream",
     "text": [
      "An Exception Occured.  Salary Can not be Less Than 0.\n"
     ]
    }
   ],
   "source": [
    "### What a Production Set up looks like\n",
    "import sys\n",
    "sal = -1\n",
    "try:\n",
    "    if sal < 0 :\n",
    "        raise Exception('Salary Can not be Less Than 0.')\n",
    "except Exception as Argument:\n",
    "    print(\"An Exception Occured. \", Argument)\n",
    "#     logger.error(\"Error Occured\" + Arguemnt)\n",
    "#     Log the Error in the database\n",
    "#     Send an Email Notification\n",
    "#     raise\n",
    "#     sys.exit(0)"
   ]
  },
  {
   "cell_type": "code",
   "execution_count": null,
   "metadata": {},
   "outputs": [],
   "source": [
    "# %load .\\Python\\S_Exception+Handling+in+Python.txt\n",
    "###\n",
    "print(sal)\n",
    "#Exit Code as 1\n",
    "\n",
    "### Now Handle the error:\n",
    "try:\n",
    "    print(sal)\n",
    "except NameError:\n",
    "    print(\"An Exception Occured\")\n",
    "except Exception: #or use just except :\n",
    "    print(\"An Exception Occured here ...\")\n",
    "else:\n",
    "    print(\"No Error. The Code Executed Successfully !\")\n",
    "finally:\n",
    "    print(\"This would always be executed.\")\n",
    "#Exit Code 0\n",
    "\n",
    "### Exception Argument:\n",
    "try:\n",
    "    print(sal)\n",
    "except NameError as Argument:\n",
    "    print(\"An Exception Occured\", Argument)\n",
    "else:\n",
    "    print(\"No Error. The Code Executed Successfully !\", Argument)\n",
    "\n",
    "\t\n",
    "### User Defined Exception:\n",
    "sal = -1\n",
    "try:\n",
    "    if sal < 0 :\n",
    "        raise Exception('Salary Can not be Less Than 0.')\n",
    "except Exception as Argument:\n",
    "    print(\"An Exception Occured. \", Argument)\n",
    "\n",
    "### What a Production Set up looks like\n",
    "import sys\n",
    "sal = -1\n",
    "try:\n",
    "    if sal < 0 :\n",
    "        raise Exception('Salary Can not be Less Than 0.')\n",
    "except Exception as Argument:\n",
    "    print(\"An Exception Occured. \", Argument)\n",
    "    #logger.error(\"Error Occured\" + Arguemnt)\n",
    "    #Log the Error in the database\n",
    "    #Send an Email Notification\n",
    "    #raise\n",
    "    #sys.exit(0)\n"
   ]
  },
  {
   "cell_type": "code",
   "execution_count": 87,
   "metadata": {},
   "outputs": [
    {
     "name": "stdout",
     "output_type": "stream",
     "text": [
      "Overwriting exception_handling.py\n"
     ]
    }
   ],
   "source": [
    "%%writefile exception_handling.py\n",
    "import traceback as tb\n",
    "def test():\n",
    "#     sal = -1\n",
    "    try:\n",
    "        if sal < 0 :\n",
    "            raise Exception('Salary Can not be Less Than 0.')\n",
    "    except Exception as Argument:\n",
    "        print(\"An Exception Occured. \", Argument)\n",
    "        raise\n",
    "    "
   ]
  },
  {
   "cell_type": "code",
   "execution_count": 88,
   "metadata": {},
   "outputs": [
    {
     "name": "stdout",
     "output_type": "stream",
     "text": [
      "Overwriting outer.py\n"
     ]
    }
   ],
   "source": [
    "%%writefile outer.py\t\t\n",
    "import exception_handling as eh\n",
    "import sys\n",
    "import traceback as tb\n",
    "\n",
    "def main():\n",
    "    try:\n",
    "        eh.test()\n",
    "\n",
    "    except:\n",
    "        ob = sys.exc_info()[2]\n",
    "        print(ob.tb_lineno)\n",
    "        print(ob.tb_frame)\n",
    "        print(ob.tb_next.tb_lineno)\n",
    "        print(ob.tb_next.tb_frame)\n",
    "\n",
    "if __name__ == '__main__':\n",
    "    main()"
   ]
  },
  {
   "cell_type": "code",
   "execution_count": null,
   "metadata": {},
   "outputs": [],
   "source": [
    "# %load .\\Python\\T_Traceback+Exceptions+in+Python.txt\n",
    "##### Understanding Tracebook Module and its function print_exc()\n",
    "###exception_handling.py\n",
    "import traceback as tb\n",
    "def test():\n",
    "    sal = -1\n",
    "    try:\n",
    "        if sal < 0 :\n",
    "            raise Exception('Salary Can not be Less Than 0.')\n",
    "    except Exception as Argument:\n",
    "        print(\"An Exception Occured. \", Argument)\n",
    "        raise\n",
    "\t\t\n",
    "###outer.py\t\t\n",
    "import exception_handling as eh\n",
    "import sys\n",
    "import traceback as tb\n",
    "\n",
    "def main():\n",
    "    try:\n",
    "        eh.test()\n",
    "    except:\n",
    "        print(tb.print_exc())\n",
    "\t\tsys.exit(1)\n",
    "\n",
    "if __name__ == '__main__':\n",
    "    main()\n",
    "\n",
    "##### Perform Backtrace operations using exc_info() function of sys module.\n",
    "###exception_handling.py\n",
    "def test():\n",
    "\n",
    "    try:\n",
    "        if sal < 0 :\n",
    "            raise Exception('Salary Can not be Less Than 0.')\n",
    "    except NameError as Argument:\n",
    "        print(\"An Exception Occured. \", Argument)\n",
    "        raise\n",
    "\n",
    "\t\t\n",
    "###outer.py\t\t\n",
    "import exception_handling as eh\n",
    "import sys\n",
    "import traceback as tb\n",
    "\n",
    "def main():\n",
    "    try:\n",
    "        eh.test()\n",
    "    except:\n",
    "        ob = sys.exc_info()[2]\n",
    "        print(ob.tb_lineno)\n",
    "        print(ob.tb_frame)\n",
    "        print(ob.tb_next.tb_lineno)\n",
    "        print(ob.tb_next.tb_frame)\n",
    "\n",
    "if __name__ == '__main__':\n",
    "    main()"
   ]
  },
  {
   "cell_type": "code",
   "execution_count": null,
   "metadata": {},
   "outputs": [],
   "source": []
  },
  {
   "cell_type": "code",
   "execution_count": null,
   "metadata": {},
   "outputs": [],
   "source": []
  },
  {
   "cell_type": "markdown",
   "metadata": {
    "id": "BHhoLHJbQu3-"
   },
   "source": [
    "# Object-Oriented Programming"
   ]
  },
  {
   "cell_type": "markdown",
   "metadata": {
    "id": "LATTLUdSQu4D"
   },
   "source": [
    "## Class"
   ]
  },
  {
   "cell_type": "markdown",
   "metadata": {
    "id": "B-6pr-__Qu4D"
   },
   "source": [
    "- Each class has its defined attributes and methods"
   ]
  },
  {
   "cell_type": "code",
   "execution_count": null,
   "metadata": {
    "id": "Pg9BPrgpQu4F"
   },
   "outputs": [],
   "source": [
    "# Define a class\n",
    "class Employee:\n",
    "\n",
    "    # Constructor method\n",
    "    def __init__(self, first, last, pay):\n",
    "        self.first = first\n",
    "        self.last = last\n",
    "        self.email = first + '.' + last + '@email.com'\n",
    "        self.pay = pay\n",
    "\n",
    "    # instance method\n",
    "    def fullname(self):\n",
    "        return '{} {}'.format(self.first, self.last)\n",
    "\n",
    "emp_1 = Employee('Corey', 'Schafer', 50000)\n",
    "emp_2 = Employee('Test', 'Employee', 60000)\n"
   ]
  },
  {
   "cell_type": "markdown",
   "metadata": {
    "id": "obVbXja6Qu4H"
   },
   "source": [
    "## Types of Methods"
   ]
  },
  {
   "cell_type": "markdown",
   "metadata": {
    "id": "l9R6XKyBQu4I"
   },
   "source": [
    "- **Class** Method: a method bound to the class and with `cls` as the first default argument\n",
    "- **Static** Method: a self-contained method bound to the class\n",
    "- **Instance** Method: a method bound to the object instance of the class with `self` as the first default argument"
   ]
  },
  {
   "cell_type": "code",
   "execution_count": 90,
   "metadata": {
    "id": "H96VGTTMQu4I",
    "outputId": "e3258d49-35c8-4fb0-9e4d-a71bd83c5f4d"
   },
   "outputs": [
    {
     "name": "stdout",
     "output_type": "stream",
     "text": [
      "1.05\n",
      "1.05\n",
      "1.05\n",
      "John.Doe@email.com\n",
      "70000\n",
      "True\n"
     ]
    }
   ],
   "source": [
    "class Employee:\n",
    "\n",
    "    num_of_emps = 0\n",
    "    raise_amt = 1.04\n",
    "\n",
    "    def __init__(self, first, last, pay):\n",
    "        self.first = first\n",
    "        self.last = last\n",
    "        self.email = first + '.' + last + '@email.com'\n",
    "        self.pay = pay\n",
    "\n",
    "        Employee.num_of_emps += 1\n",
    "\n",
    "    def fullname(self):\n",
    "        return '{} {}'.format(self.first, self.last)\n",
    "\n",
    "    def apply_raise(self):\n",
    "        self.pay = int(self.pay * self.raise_amt)\n",
    "\n",
    "    @classmethod\n",
    "    def set_raise_amt(cls, amount):\n",
    "        cls.raise_amt = amount\n",
    "\n",
    "    @classmethod\n",
    "    def from_string(cls, emp_str):\n",
    "        first, last, pay = emp_str.split('-')\n",
    "        return cls(first, last, pay)\n",
    "\n",
    "    @staticmethod\n",
    "    def is_workday(day):\n",
    "        if day.weekday() == 5 or day.weekday() == 6:\n",
    "            return False\n",
    "        return True\n",
    "\n",
    "\n",
    "emp_1 = Employee('Corey', 'Schafer', 50000)\n",
    "emp_2 = Employee('Test', 'Employee', 60000)\n",
    "\n",
    "Employee.set_raise_amt(1.05)\n",
    "\n",
    "print(Employee.raise_amt)\n",
    "print(emp_1.raise_amt)\n",
    "print(emp_2.raise_amt)\n",
    "\n",
    "emp_str_1 = 'John-Doe-70000'\n",
    "emp_str_2 = 'Steve-Smith-30000'\n",
    "emp_str_3 = 'Jane-Doe-90000'\n",
    "\n",
    "first, last, pay = emp_str_1.split('-')\n",
    "\n",
    "#new_emp_1 = Employee(first, last, pay)\n",
    "new_emp_1 = Employee.from_string(emp_str_1)\n",
    "\n",
    "print(new_emp_1.email)\n",
    "print(new_emp_1.pay)\n",
    "\n",
    "import datetime\n",
    "my_date = datetime.date(2016, 7, 11)\n",
    "\n",
    "print(Employee.is_workday(my_date))"
   ]
  },
  {
   "cell_type": "markdown",
   "metadata": {
    "id": "Kf_x1mJMQu4L"
   },
   "source": [
    "## Class Inheritance"
   ]
  },
  {
   "cell_type": "markdown",
   "metadata": {
    "id": "HHbAc1CgQu4L"
   },
   "source": [
    "- The key of OOP\n",
    "- Extend the original class constructor methods using `super()`\n"
   ]
  },
  {
   "cell_type": "code",
   "execution_count": 91,
   "metadata": {
    "id": "NsZe1m6bQu4N",
    "outputId": "33c6f537-e659-42c5-b47b-ad4c40c06a8b"
   },
   "outputs": [
    {
     "name": "stdout",
     "output_type": "stream",
     "text": [
      "Sue.Smith@email.com\n",
      "--> Corey Schafer\n"
     ]
    }
   ],
   "source": [
    "class Employee:\n",
    "\n",
    "    raise_amt = 1.04\n",
    "\n",
    "    def __init__(self, first, last, pay):\n",
    "        self.first = first\n",
    "        self.last = last\n",
    "        self.email = first + '.' + last + '@email.com'\n",
    "        self.pay = pay\n",
    "\n",
    "    def fullname(self):\n",
    "        return '{} {}'.format(self.first, self.last)\n",
    "\n",
    "    def apply_raise(self):\n",
    "        self.pay = int(self.pay * self.raise_amt)\n",
    "\n",
    "\n",
    "class Developer(Employee):\n",
    "    raise_amt = 1.10\n",
    "\n",
    "    def __init__(self, first, last, pay, prog_lang):\n",
    "        super().__init__(first, last, pay)\n",
    "        self.prog_lang = prog_lang\n",
    "\n",
    "\n",
    "class Manager(Employee):\n",
    "\n",
    "    def __init__(self, first, last, pay, employees=None):\n",
    "        super().__init__(first, last, pay)\n",
    "        if employees is None:\n",
    "            self.employees = []\n",
    "        else:\n",
    "            self.employees = employees\n",
    "\n",
    "    def add_emp(self, emp):\n",
    "        if emp not in self.employees:\n",
    "            self.employees.append(emp)\n",
    "\n",
    "    def remove_emp(self, emp):\n",
    "        if emp in self.employees:\n",
    "            self.employees.remove(emp)\n",
    "\n",
    "    def print_emps(self):\n",
    "        for emp in self.employees:\n",
    "            print('-->', emp.fullname())\n",
    "\n",
    "\n",
    "dev_1 = Developer('Corey', 'Schafer', 50000, 'Python')\n",
    "dev_2 = Developer('Test', 'Employee', 60000, 'Java')\n",
    "\n",
    "mgr_1 = Manager('Sue', 'Smith', 90000, [dev_1])\n",
    "\n",
    "print(mgr_1.email)\n",
    "\n",
    "mgr_1.add_emp(dev_2)\n",
    "mgr_1.remove_emp(dev_2)\n",
    "\n",
    "mgr_1.print_emps()"
   ]
  },
  {
   "cell_type": "markdown",
   "metadata": {
    "id": "ySvG7LgqQu4O"
   },
   "source": [
    "## Special Methods\n"
   ]
  },
  {
   "cell_type": "markdown",
   "metadata": {
    "id": "SFeCxeSjQu4P"
   },
   "source": [
    "- Dunder methods (double-underscore)\n",
    "- To avoid overloading the expressions in coding"
   ]
  },
  {
   "cell_type": "code",
   "execution_count": 93,
   "metadata": {
    "id": "WYjZTXBYQu4P",
    "outputId": "7a5e7c1c-3f47-48a7-c53c-1385b8cbb7fa"
   },
   "outputs": [
    {
     "name": "stdout",
     "output_type": "stream",
     "text": [
      "13\n",
      "Corey Schafer\n"
     ]
    }
   ],
   "source": [
    "class Employee:\n",
    "\n",
    "    raise_amt = 1.04\n",
    "\n",
    "    def __init__(self, first, last, pay):\n",
    "        self.first = first\n",
    "        self.last = last\n",
    "        self.email = first + '.' + last + '@email.com'\n",
    "        self.pay = pay\n",
    "\n",
    "    def fullname(self):\n",
    "        return '{} {}'.format(self.first, self.last)\n",
    "\n",
    "    def apply_raise(self):\n",
    "        self.pay = int(self.pay * self.raise_amt)\n",
    "\n",
    "    def __repr__(self):\n",
    "        return \"Employee('{}', '{}', {})\".format(self.first, self.last, self.pay)\n",
    "\n",
    "    def __str__(self):\n",
    "        return '{} - {}'.format(self.fullname(), self.email)\n",
    "\n",
    "    def __add__(self, other):\n",
    "        return self.pay + other.pay\n",
    "\n",
    "    def __len__(self):\n",
    "        return len(self.fullname())\n",
    "\n",
    "\n",
    "emp_1 = Employee('Corey', 'Schafer', 50000)\n",
    "emp_2 = Employee('Test', 'Employee', 60000)\n",
    "\n",
    "# print(emp_1 + emp_2)\n",
    "\n",
    "print(len(emp_1))\n",
    "print(emp_1.fullname())"
   ]
  },
  {
   "cell_type": "markdown",
   "metadata": {
    "id": "P2BZHX9SQu4Q"
   },
   "source": [
    "## Property Decorator"
   ]
  },
  {
   "cell_type": "markdown",
   "metadata": {
    "id": "Uc-CmTF1Qu4Q"
   },
   "source": [
    "- `@property`: make a method function like attribute-accessing\n",
    "- `@NAME.setter`: make a method function like class-attribute assigning\n",
    "- `@NAME.deleter`: make a method function like class-attribute deleting"
   ]
  },
  {
   "cell_type": "code",
   "execution_count": 94,
   "metadata": {
    "id": "5Ck6ir9gQu4Q"
   },
   "outputs": [
    {
     "name": "stdout",
     "output_type": "stream",
     "text": [
      "Corey\n",
      "Corey.Schafer@email.com\n",
      "Corey Schafer\n",
      "Delete Name!\n"
     ]
    }
   ],
   "source": [
    "class Employee:\n",
    "\n",
    "    def __init__(self, first, last):\n",
    "        self.first = first\n",
    "        self.last = last\n",
    "\n",
    "    @property\n",
    "    def email(self):\n",
    "        return '{}.{}@email.com'.format(self.first, self.last)\n",
    "\n",
    "    @property\n",
    "    def fullname(self):\n",
    "        return '{} {}'.format(self.first, self.last)\n",
    "    \n",
    "    @fullname.setter\n",
    "    def fullname(self, name):\n",
    "        first, last = name.split(' ')\n",
    "        self.first = first\n",
    "        self.last = last\n",
    "    \n",
    "    @fullname.deleter\n",
    "    def fullname(self):\n",
    "        print('Delete Name!')\n",
    "        self.first = None\n",
    "        self.last = None\n",
    "\n",
    "\n",
    "emp_1 = Employee('John', 'Smith')\n",
    "emp_1.fullname = \"Corey Schafer\"\n",
    "\n",
    "print(emp_1.first)\n",
    "print(emp_1.email)\n",
    "print(emp_1.fullname)\n",
    "\n",
    "del emp_1.fullname"
   ]
  },
  {
   "cell_type": "markdown",
   "metadata": {
    "id": "_dHIOEKKQu4R"
   },
   "source": [
    "## Checking Functions"
   ]
  },
  {
   "cell_type": "markdown",
   "metadata": {
    "id": "l3KkXRuXQu4R"
   },
   "source": [
    "- `isinstance()`: Check an instance's type\n",
    "- `issubclass()`: Check class inheritance"
   ]
  },
  {
   "cell_type": "markdown",
   "metadata": {
    "id": "nu0zCiGVQu4S"
   },
   "source": [
    "## Name Mangling"
   ]
  },
  {
   "cell_type": "markdown",
   "metadata": {
    "id": "96H8BGIPQu4S"
   },
   "source": [
    "- `__NAME`: Any identifier of this form within the class is textually replaced with `_classname__NAME`, where `classname` is the current class name, with leading underscore(s) stripped.\n",
    "- This is for the purpose of creating **private** variables to the class."
   ]
  },
  {
   "cell_type": "markdown",
   "metadata": {
    "id": "cUdOq-RSQu4T"
   },
   "source": [
    "## Reference\n",
    "\n",
    "- This notebook is based on [Corey Schafer's OOP Tutorial](https://www.youtube.com/playlist?list=PL-osiE80TeTsqhIuOqKhwlXsIBIdSeYtc)"
   ]
  }
 ],
 "metadata": {
  "colab": {
   "name": "oop.ipynb",
   "provenance": []
  },
  "kernelspec": {
   "display_name": "Python 3 (ipykernel)",
   "language": "python",
   "name": "python3"
  },
  "language_info": {
   "codemirror_mode": {
    "name": "ipython",
    "version": 3
   },
   "file_extension": ".py",
   "mimetype": "text/x-python",
   "name": "python",
   "nbconvert_exporter": "python",
   "pygments_lexer": "ipython3",
   "version": "3.9.7"
  },
  "toc": {
   "base_numbering": 1,
   "nav_menu": {},
   "number_sections": false,
   "sideBar": true,
   "skip_h1_title": false,
   "title_cell": "Table of Contents",
   "title_sidebar": "Contents",
   "toc_cell": false,
   "toc_position": {},
   "toc_section_display": true,
   "toc_window_display": true
  },
  "varInspector": {
   "cols": {
    "lenName": 16,
    "lenType": 16,
    "lenVar": 40
   },
   "kernels_config": {
    "python": {
     "delete_cmd_postfix": "",
     "delete_cmd_prefix": "del ",
     "library": "var_list.py",
     "varRefreshCmd": "print(var_dic_list())"
    },
    "r": {
     "delete_cmd_postfix": ") ",
     "delete_cmd_prefix": "rm(",
     "library": "var_list.r",
     "varRefreshCmd": "cat(var_dic_list()) "
    }
   },
   "types_to_exclude": [
    "module",
    "function",
    "builtin_function_or_method",
    "instance",
    "_Feature"
   ],
   "window_display": false
  }
 },
 "nbformat": 4,
 "nbformat_minor": 1
}
