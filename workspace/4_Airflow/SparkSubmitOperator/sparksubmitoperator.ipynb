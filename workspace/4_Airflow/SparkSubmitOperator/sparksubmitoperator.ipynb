{
 "cells": [
  {
   "cell_type": "code",
   "execution_count": 3,
   "id": "d9248658-31ad-467b-a78a-2e75f79d55c8",
   "metadata": {},
   "outputs": [
    {
     "name": "stdout",
     "output_type": "stream",
     "text": [
      "total 56\n",
      "drwxr-xr-x 3 root root  4096 Mar 25 21:16 .\n",
      "drwxr-xr-x 7 root root  4096 Mar 25 21:18 ..\n",
      "-rw-r--r-- 1 root root 11528 Mar 25 16:58 basicsparksubmit.ipynb\n",
      "-rw-r--r-- 1 root root   499 Mar 20 06:36 basicsparksubmit.py\n",
      "-rw-r--r-- 1 root root  1188 Mar 20 04:26 dag_basicsparksubmit.py\n",
      "drwxr-xr-x 2 root root  4096 Mar 25 21:16 .ipynb_checkpoints\n",
      "-rw-r--r-- 1 root root  1779 Mar 15 01:23 spark_dag.py\n",
      "-rw-r--r-- 1 root root  2445 Mar 20 07:34 step1_preprocess.py\n",
      "-rw-r--r-- 1 root root  9677 Mar 20 08:12 step1_preprocess_sparksubmit.ipynb\n",
      "-rw-r--r-- 1 root root    72 Mar 25 21:16 Untitled.ipynb\n"
     ]
    }
   ],
   "source": [
    "! ls -al /root/PySpark/workspace/7_Airflow/SparkSubmitOperator/"
   ]
  },
  {
   "cell_type": "code",
   "execution_count": 44,
   "id": "b0e27b3e-2a0f-4e56-80ee-474c2fe294d5",
   "metadata": {},
   "outputs": [
    {
     "name": "stdout",
     "output_type": "stream",
     "text": [
      "Overwriting pi.py\n"
     ]
    }
   ],
   "source": [
    "%%writefile pi.py\n",
    "#\n",
    "# Licensed to the Apache Software Foundation (ASF) under one or more\n",
    "# contributor license agreements.  See the NOTICE file distributed with\n",
    "# this work for additional information regarding copyright ownership.\n",
    "# The ASF licenses this file to You under the Apache License, Version 2.0\n",
    "# (the \"License\"); you may not use this file except in compliance with\n",
    "# the License.  You may obtain a copy of the License at\n",
    "#\n",
    "#    http://www.apache.org/licenses/LICENSE-2.0\n",
    "#\n",
    "# Unless required by applicable law or agreed to in writing, software\n",
    "# distributed under the License is distributed on an \"AS IS\" BASIS,\n",
    "# WITHOUT WARRANTIES OR CONDITIONS OF ANY KIND, either express or implied.\n",
    "# See the License for the specific language governing permissions and\n",
    "# limitations under the License.\n",
    "#\n",
    "\n",
    "import sys\n",
    "from random import random\n",
    "from operator import add\n",
    "\n",
    "from pyspark.sql import SparkSession\n",
    "\n",
    "if __name__ == \"__main__\":\n",
    "    \"\"\"\n",
    "        Usage: pi [partitions]\n",
    "    \"\"\"\n",
    "\n",
    "    spark = SparkSession\\\n",
    "        .builder\\\n",
    "        .appName(\"PythonPi\")\\\n",
    "        .getOrCreate()\n",
    "\n",
    "    partitions = int(sys.argv[1]) if len(sys.argv) > 1 else 2\n",
    "    n = 100000 * partitions\n",
    "\n",
    "    def f(_: int) -> float:\n",
    "        x = random() * 2 - 1\n",
    "        y = random() * 2 - 1\n",
    "        return 1 if x ** 2 + y ** 2 <= 1 else 0\n",
    "\n",
    "    count = spark.sparkContext.parallelize(range(1, n + 1), partitions).map(f).reduce(add)\n",
    "    print(\"Pi is roughly %f\" % (4.0 * count / n))\n",
    "\n",
    "    spark.stop()\n",
    "    \n"
   ]
  },
  {
   "cell_type": "code",
   "execution_count": 40,
   "id": "889b1c4a-a73c-4121-9710-1ac4089df639",
   "metadata": {},
   "outputs": [],
   "source": [
    "#! docker exec master /opt/hadoop/bin/hdfs dfsadmin -safemode leave\n",
    "#! docker exec master /opt/hadoop/bin/hdfs dfsadmin -safemode forceExit"
   ]
  },
  {
   "cell_type": "code",
   "execution_count": 45,
   "id": "c5ecfa47-e1b1-4a2e-b743-92095a75c197",
   "metadata": {},
   "outputs": [
    {
     "name": "stdout",
     "output_type": "stream",
     "text": [
      "Found 5 items\n",
      "drwxr-xr-x   - root supergroup          0 2022-03-18 01:48 /apps\n",
      "-rw-r--r--   3 root supergroup    2397103 2022-03-26 09:23 /database.csv\n",
      "drwxr-xr-x   - root supergroup          0 2022-03-18 01:49 /spark-jars\n",
      "drwxr-xr-x   - root supergroup          0 2022-03-26 09:33 /spark-logs\n",
      "drwx-wx-wx   - root supergroup          0 2022-03-18 01:41 /tmp\n"
     ]
    }
   ],
   "source": [
    "! docker exec master /opt/hadoop/bin/hdfs dfs -ls /"
   ]
  },
  {
   "cell_type": "code",
   "execution_count": 46,
   "id": "4456be1f-befd-46cf-9158-84918b88c453",
   "metadata": {},
   "outputs": [],
   "source": [
    "! docker exec master /opt/hadoop/bin/hdfs dfs -mkdir -p /SparkSubmitOperator/"
   ]
  },
  {
   "cell_type": "code",
   "execution_count": 47,
   "id": "5f445404-b2f2-4a79-aa01-50715c1a8403",
   "metadata": {},
   "outputs": [
    {
     "name": "stdout",
     "output_type": "stream",
     "text": [
      "rm: `/SparkSubmitOperator/pi.py': No such file or directory\n",
      "#\n",
      "# Licensed to the Apache Software Foundation (ASF) under one or more\n",
      "# contributor license agreements.  See the NOTICE file distributed with\n",
      "# this work for additional information regarding copyright ownership.\n",
      "# The ASF licenses this file to You under the Apache License, Version 2.0\n",
      "# (the \"License\"); you may not use this file except in compliance with\n",
      "# the License.  You may obtain a copy of the License at\n",
      "#\n",
      "#    http://www.apache.org/licenses/LICENSE-2.0\n",
      "#\n",
      "# Unless required by applicable law or agreed to in writing, software\n",
      "# distributed under the License is distributed on an \"AS IS\" BASIS,\n",
      "# WITHOUT WARRANTIES OR CONDITIONS OF ANY KIND, either express or implied.\n",
      "# See the License for the specific language governing permissions and\n",
      "# limitations under the License.\n",
      "#\n",
      "\n",
      "import sys\n",
      "from random import random\n",
      "from operator import add\n",
      "\n",
      "from pyspark.sql import SparkSession\n",
      "\n",
      "if __name__ == \"__main__\":\n",
      "    \"\"\"\n",
      "        Usage: pi [partitions]\n",
      "    \"\"\"\n",
      "\n",
      "    spark = SparkSession\\\n",
      "        .builder\\\n",
      "        .appName(\"PythonPi\")\\\n",
      "        .getOrCreate()\n",
      "\n",
      "    partitions = int(sys.argv[1]) if len(sys.argv) > 1 else 2\n",
      "    n = 100000 * partitions\n",
      "\n",
      "    def f(_: int) -> float:\n",
      "        x = random() * 2 - 1\n",
      "        y = random() * 2 - 1\n",
      "        return 1 if x ** 2 + y ** 2 <= 1 else 0\n",
      "\n",
      "    count = spark.sparkContext.parallelize(range(1, n + 1), partitions).map(f).reduce(add)\n",
      "    print(\"Pi is roughly %f\" % (4.0 * count / n))\n",
      "\n",
      "    spark.stop()\n"
     ]
    }
   ],
   "source": [
    "! docker cp pi.py master:/root/\n",
    "! docker exec master /opt/hadoop/bin/hdfs dfs -rm /SparkSubmitOperator/pi.py\n",
    "! docker exec master /opt/hadoop/bin/hdfs dfs -put /root/pi.py /SparkSubmitOperator/pi.py\n",
    "! docker exec master /opt/hadoop/bin/hdfs dfs -cat /SparkSubmitOperator/pi.py"
   ]
  },
  {
   "cell_type": "code",
   "execution_count": 48,
   "id": "eff58bc0-b69b-47cb-8048-055c1f5462e7",
   "metadata": {},
   "outputs": [
    {
     "name": "stdout",
     "output_type": "stream",
     "text": [
      "Overwriting ../../dags/spark_dag.py\n"
     ]
    }
   ],
   "source": [
    "%%writefile ../../dags/spark_dag.py\n",
    "#\n",
    "# Licensed to the Apache Software Foundation (ASF) under one\n",
    "# or more contributor license agreements.  See the NOTICE file\n",
    "# distributed with this work for additional information\n",
    "# regarding copyright ownership.  The ASF licenses this file\n",
    "# to you under the Apache License, Version 2.0 (the\n",
    "# \"License\"); you may not use this file except in compliance\n",
    "# with the License.  You may obtain a copy of the License at\n",
    "#\n",
    "#   http://www.apache.org/licenses/LICENSE-2.0\n",
    "#\n",
    "# Unless required by applicable law or agreed to in writing,\n",
    "# software distributed under the License is distributed on an\n",
    "# \"AS IS\" BASIS, WITHOUT WARRANTIES OR CONDITIONS OF ANY\n",
    "# KIND, either express or implied.  See the License for the\n",
    "# specific language governing permissions and limitations\n",
    "# under the License.\n",
    "\n",
    "\"\"\"\n",
    "Example Airflow DAG to submit Apache Spark applications using\n",
    "`SparkSubmitOperator`, `SparkJDBCOperator` and `SparkSqlOperator`.\n",
    "\"\"\"\n",
    "from airflow.models import DAG\n",
    "from airflow.providers.apache.spark.operators.spark_submit import SparkSubmitOperator\n",
    "from airflow.utils.dates import days_ago\n",
    "\n",
    "args = {\n",
    "    'owner': 'Airflow',\n",
    "}\n",
    "\n",
    "with DAG(\n",
    "    dag_id='spark_submit_operator',\n",
    "    default_args=args,\n",
    "    schedule_interval=None,\n",
    "    start_date=days_ago(2),\n",
    "    tags=['example'],\n",
    ") as dag:    \n",
    "    # [START howto_operator_spark_submit]\n",
    "    \n",
    "    python_submit_job = SparkSubmitOperator(\n",
    "        application=\"hdfs://master:9000/SparkSubmitOperator/pi.py\", task_id=\"python_job\"\n",
    "    )\n",
    "    \n",
    "    # scala_submit_job = SparkSubmitOperator(\n",
    "    #     application=\"/workspace/example-airflow-and-spark/airflow-spark-assembly-0.1.0-SNAPSHOT.jar\", task_id=\"scala_job\"\n",
    "    # )\n",
    "\n",
    "    # python_submit_job >> scala_submit_job\n",
    "    \n",
    "    # [END howto_operator_spark_submit]\n"
   ]
  },
  {
   "cell_type": "code",
   "execution_count": null,
   "id": "3a4a8693-f6de-4398-96a2-b3b147b29edd",
   "metadata": {},
   "outputs": [],
   "source": []
  }
 ],
 "metadata": {
  "kernelspec": {
   "display_name": "Python 3 (ipykernel)",
   "language": "python",
   "name": "python3"
  },
  "language_info": {
   "codemirror_mode": {
    "name": "ipython",
    "version": 3
   },
   "file_extension": ".py",
   "mimetype": "text/x-python",
   "name": "python",
   "nbconvert_exporter": "python",
   "pygments_lexer": "ipython3",
   "version": "3.7.0"
  }
 },
 "nbformat": 4,
 "nbformat_minor": 5
}
