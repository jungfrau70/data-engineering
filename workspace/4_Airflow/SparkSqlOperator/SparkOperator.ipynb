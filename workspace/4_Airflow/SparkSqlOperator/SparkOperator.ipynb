{
 "cells": [
  {
   "cell_type": "code",
   "execution_count": 1,
   "id": "e52db58b-e93d-4fb3-ac6d-063385c1d6c3",
   "metadata": {},
   "outputs": [
    {
     "name": "stdout",
     "output_type": "stream",
     "text": [
      "Overwriting ../dags/sparkoperator.py\n"
     ]
    }
   ],
   "source": [
    "%%writefile ../../dags/sparkoperator.py\n",
    "\n",
    "from datetime import datetime\n",
    "from airflow import DAG\n",
    "from airflow.providers.apache.spark.operators.spark_sql import SparkSqlOperator\n",
    "\n",
    "default_args = {\n",
    "    'start_date': datetime(2022, 1, 1)\n",
    "}\n",
    "\n",
    "with DAG(dag_id=\"spark-example\",\n",
    "         schedule_interval=\"@daily\",\n",
    "         default_args=default_args,\n",
    "         tags=['spark'],\n",
    "         catchup=False\n",
    "        ) as dag:\n",
    "    sql_job = SparkSqlOperator(sql=\"SELECT * from foobar\", master='local', task_id=\"sql_job\")"
   ]
  },
  {
   "cell_type": "code",
   "execution_count": 2,
   "id": "8cefbca0-ecfa-40a8-b4fe-1e158e18142b",
   "metadata": {},
   "outputs": [
    {
     "name": "stdout",
     "output_type": "stream",
     "text": [
      "Overwriting ../dags/sparkoperator.py\n"
     ]
    }
   ],
   "source": [
    "%%writefile ../dags/sparkoperator.py\n",
    "\n",
    "from datetime import datetime\n",
    "from airflow import DAG\n",
    "from airflow.providers.apache.spark.operators.spark_sql import SparkSqlOperator\n",
    "\n",
    "default_args = {\n",
    "    'start_date': datetime(2022, 1, 1)\n",
    "}\n",
    "\n",
    "with DAG(dag_id=\"spark-example\",\n",
    "         schedule_interval=\"@daily\",\n",
    "         default_args=default_args,\n",
    "         tags=['spark'],\n",
    "         catchup=False\n",
    "        ) as dag:\n",
    "    sql_job = SparkSqlOperator(sql=\"SELECT * from foobar\", master='spark://master:7077', task_id=\"sql_job\")"
   ]
  },
  {
   "cell_type": "code",
   "execution_count": null,
   "id": "0058e656-3a25-4919-904f-b7eeef9cc826",
   "metadata": {},
   "outputs": [],
   "source": []
  }
 ],
 "metadata": {
  "kernelspec": {
   "display_name": "Python 3 (ipykernel)",
   "language": "python",
   "name": "python3"
  },
  "language_info": {
   "codemirror_mode": {
    "name": "ipython",
    "version": 3
   },
   "file_extension": ".py",
   "mimetype": "text/x-python",
   "name": "python",
   "nbconvert_exporter": "python",
   "pygments_lexer": "ipython3",
   "version": "3.7.0"
  }
 },
 "nbformat": 4,
 "nbformat_minor": 5
}
