{
 "cells": [
  {
   "cell_type": "markdown",
   "id": "13113a5e-31ea-4a6d-8d4e-0ecdf4b05726",
   "metadata": {},
   "source": [
    "https://livy.incubator.apache.org/examples/"
   ]
  },
  {
   "cell_type": "code",
   "execution_count": 1,
   "id": "4d859a3e-2835-4973-8cfd-08a1305ed694",
   "metadata": {},
   "outputs": [],
   "source": [
    "import json, pprint, requests, textwrap"
   ]
  },
  {
   "cell_type": "code",
   "execution_count": 2,
   "id": "7c533a13-2509-4965-a4a7-c31ff53ad8cd",
   "metadata": {},
   "outputs": [
    {
     "data": {
      "text/plain": [
       "{'id': 2,\n",
       " 'name': None,\n",
       " 'appId': None,\n",
       " 'owner': None,\n",
       " 'proxyUser': None,\n",
       " 'state': 'starting',\n",
       " 'kind': 'pyspark',\n",
       " 'appInfo': {'driverLogUrl': None, 'sparkUiUrl': None},\n",
       " 'log': ['stdout: ', '\\nstderr: ']}"
      ]
     },
     "execution_count": 2,
     "metadata": {},
     "output_type": "execute_result"
    }
   ],
   "source": [
    "host = 'http://spark-livy:8998'\n",
    "data = {'kind': 'pyspark'}\n",
    "headers = {'Content-Type': 'application/json'}\n",
    "r = requests.post(host + '/sessions', data=json.dumps(data), headers=headers)\n",
    "r.json()"
   ]
  },
  {
   "cell_type": "code",
   "execution_count": 3,
   "id": "d0d2ee65-c6a4-4891-873e-2241ba06bea7",
   "metadata": {},
   "outputs": [
    {
     "data": {
      "text/plain": [
       "{'id': 2,\n",
       " 'name': None,\n",
       " 'appId': None,\n",
       " 'owner': None,\n",
       " 'proxyUser': None,\n",
       " 'state': 'starting',\n",
       " 'kind': 'pyspark',\n",
       " 'appInfo': {'driverLogUrl': None, 'sparkUiUrl': None},\n",
       " 'log': ['stdout: ',\n",
       "  '\\nstderr: ',\n",
       "  '22/04/02 10:25:40 WARN NativeCodeLoader: Unable to load native-hadoop library for your platform... using builtin-java classes where applicable',\n",
       "  'log4j:WARN No appenders could be found for logger (io.netty.util.internal.logging.InternalLoggerFactory).',\n",
       "  'log4j:WARN Please initialize the log4j system properly.',\n",
       "  'log4j:WARN See http://logging.apache.org/log4j/1.2/faq.html#noconfig for more info.']}"
      ]
     },
     "execution_count": 3,
     "metadata": {},
     "output_type": "execute_result"
    }
   ],
   "source": [
    "session_url = host + r.headers['location']\n",
    "r = requests.get(session_url, headers=headers)\n",
    "r.json()"
   ]
  },
  {
   "cell_type": "code",
   "execution_count": 4,
   "id": "d095a455-441f-45e8-831c-0f150b7d9df3",
   "metadata": {},
   "outputs": [
    {
     "data": {
      "text/plain": [
       "'http://spark-livy:8998/sessions/2'"
      ]
     },
     "execution_count": 4,
     "metadata": {},
     "output_type": "execute_result"
    }
   ],
   "source": [
    "session_url"
   ]
  },
  {
   "cell_type": "code",
   "execution_count": 5,
   "id": "d7fc0213-875b-4569-9220-94db164a0813",
   "metadata": {},
   "outputs": [
    {
     "data": {
      "text/plain": [
       "'java.lang.IllegalStateException: Session is in state starting'"
      ]
     },
     "execution_count": 5,
     "metadata": {},
     "output_type": "execute_result"
    }
   ],
   "source": [
    "statements_url = session_url + '/statements'\n",
    "data = {'code': '1 + 1'}\n",
    "r = requests.post(statements_url, data=json.dumps(data), headers=headers)\n",
    "r.json()"
   ]
  },
  {
   "cell_type": "code",
   "execution_count": 6,
   "id": "5fcd6282-a195-4436-8fea-629a99138639",
   "metadata": {},
   "outputs": [
    {
     "data": {
      "text/plain": [
       "{'Date': 'Sat, 02 Apr 2022 10:24:51 GMT', 'Content-Type': 'application/json;charset=utf-8', 'Content-Encoding': 'gzip', 'Transfer-Encoding': 'chunked', 'Server': 'Jetty(9.3.24.v20180605)'}"
      ]
     },
     "execution_count": 6,
     "metadata": {},
     "output_type": "execute_result"
    }
   ],
   "source": [
    "r.headers"
   ]
  },
  {
   "cell_type": "code",
   "execution_count": 6,
   "id": "a0903643-2e22-4cce-8028-fd9ec8cf36d0",
   "metadata": {},
   "outputs": [
    {
     "data": {
      "text/plain": [
       "'http://spark-livy:8998/sessions/2/statements'"
      ]
     },
     "execution_count": 6,
     "metadata": {},
     "output_type": "execute_result"
    }
   ],
   "source": [
    "statements_url"
   ]
  },
  {
   "cell_type": "code",
   "execution_count": 7,
   "id": "810410f6-793b-4666-b922-88c6a25a3beb",
   "metadata": {},
   "outputs": [
    {
     "name": "stdout",
     "output_type": "stream",
     "text": [
      "{'statements': [], 'total_statements': 0}\n"
     ]
    }
   ],
   "source": [
    "r = requests.get(statements_url, headers=headers)\n",
    "pprint.pprint(r.json())"
   ]
  },
  {
   "cell_type": "code",
   "execution_count": 8,
   "id": "4ef4d7f7-e940-4ba6-9c4a-c7f4ecc1115f",
   "metadata": {},
   "outputs": [],
   "source": [
    "data = {\n",
    "  'code': textwrap.dedent(\"\"\"\n",
    "\n",
    "    # Create RDD from parallelize    \n",
    "    dataList = [(\"Java\", 20000), (\"Python\", 100000), (\"Scala\", 3000)]\n",
    "    rdd=spark.sparkContext.parallelize(dataList)\n",
    "    \"\"\")\n",
    "}"
   ]
  },
  {
   "cell_type": "code",
   "execution_count": 9,
   "id": "9928c36a-8d8d-4469-aff9-2bf4f322550b",
   "metadata": {},
   "outputs": [
    {
     "name": "stdout",
     "output_type": "stream",
     "text": [
      "{'code': '\\n'\n",
      "         '\\n'\n",
      "         '# Create RDD from parallelize    \\n'\n",
      "         'dataList = [(\"Java\", 20000), (\"Python\", 100000), (\"Scala\", 3000)]\\n'\n",
      "         'rdd=spark.sparkContext.parallelize(dataList)\\n',\n",
      " 'completed': 0,\n",
      " 'id': 0,\n",
      " 'output': None,\n",
      " 'progress': 0.0,\n",
      " 'started': 0,\n",
      " 'state': 'waiting'}\n"
     ]
    }
   ],
   "source": [
    "r = requests.post(statements_url, data=json.dumps(data), headers=headers)\n",
    "pprint.pprint(r.json())"
   ]
  },
  {
   "cell_type": "code",
   "execution_count": 10,
   "id": "229ffe46-5396-42bf-9df4-b5929a29f434",
   "metadata": {},
   "outputs": [
    {
     "name": "stdout",
     "output_type": "stream",
     "text": [
      "{'statements': [{'code': '\\n'\n",
      "                         '\\n'\n",
      "                         '# Create RDD from parallelize    \\n'\n",
      "                         'dataList = [(\"Java\", 20000), (\"Python\", 100000), '\n",
      "                         '(\"Scala\", 3000)]\\n'\n",
      "                         'rdd=spark.sparkContext.parallelize(dataList)\\n',\n",
      "                 'completed': 1648895197297,\n",
      "                 'id': 0,\n",
      "                 'output': {'data': {'text/plain': ''},\n",
      "                            'execution_count': 0,\n",
      "                            'status': 'ok'},\n",
      "                 'progress': 1.0,\n",
      "                 'started': 1648895196649,\n",
      "                 'state': 'available'}],\n",
      " 'total_statements': 1}\n"
     ]
    }
   ],
   "source": [
    "r = requests.get(statements_url, headers=headers)\n",
    "pprint.pprint(r.json())"
   ]
  },
  {
   "cell_type": "code",
   "execution_count": 13,
   "id": "3a55200c-0e28-45b2-bdc2-7b88735afd1d",
   "metadata": {},
   "outputs": [
    {
     "data": {
      "text/plain": [
       "<Response [200]>"
      ]
     },
     "execution_count": 13,
     "metadata": {},
     "output_type": "execute_result"
    }
   ],
   "source": [
    "requests.delete(session_url, headers=headers)"
   ]
  },
  {
   "cell_type": "code",
   "execution_count": 12,
   "id": "3869ddb5-19ed-49be-8de2-790d5fd0568f",
   "metadata": {},
   "outputs": [],
   "source": [
    "session_url = 'http://spark-livy:8998/sessions/4'"
   ]
  },
  {
   "cell_type": "code",
   "execution_count": null,
   "id": "e10c9052-eebf-436e-9111-81074a61be42",
   "metadata": {},
   "outputs": [],
   "source": []
  }
 ],
 "metadata": {
  "kernelspec": {
   "display_name": "Python 3 (ipykernel)",
   "language": "python",
   "name": "python3"
  },
  "language_info": {
   "codemirror_mode": {
    "name": "ipython",
    "version": 3
   },
   "file_extension": ".py",
   "mimetype": "text/x-python",
   "name": "python",
   "nbconvert_exporter": "python",
   "pygments_lexer": "ipython3",
   "version": "3.10.4"
  }
 },
 "nbformat": 4,
 "nbformat_minor": 5
}
