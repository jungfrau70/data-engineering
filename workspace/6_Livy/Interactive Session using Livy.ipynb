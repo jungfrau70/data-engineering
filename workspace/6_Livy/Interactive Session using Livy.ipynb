{
 "cells": [
  {
   "cell_type": "markdown",
   "id": "13113a5e-31ea-4a6d-8d4e-0ecdf4b05726",
   "metadata": {},
   "source": [
    "https://livy.incubator.apache.org/examples/"
   ]
  },
  {
   "cell_type": "code",
   "execution_count": 1,
   "id": "4d859a3e-2835-4973-8cfd-08a1305ed694",
   "metadata": {},
   "outputs": [],
   "source": [
    "import json, pprint, requests, textwrap"
   ]
  },
  {
   "cell_type": "code",
   "execution_count": 2,
   "id": "7c533a13-2509-4965-a4a7-c31ff53ad8cd",
   "metadata": {},
   "outputs": [
    {
     "data": {
      "text/plain": [
       "{'id': 5,\n",
       " 'name': None,\n",
       " 'appId': None,\n",
       " 'owner': None,\n",
       " 'proxyUser': None,\n",
       " 'state': 'starting',\n",
       " 'kind': 'pyspark',\n",
       " 'appInfo': {'driverLogUrl': None, 'sparkUiUrl': None},\n",
       " 'log': ['stdout: ', '\\nstderr: ']}"
      ]
     },
     "execution_count": 2,
     "metadata": {},
     "output_type": "execute_result"
    }
   ],
   "source": [
    "host = 'http://spark-livy:8998'\n",
    "data = {'kind': 'pyspark'}\n",
    "headers = {'Content-Type': 'application/json'}\n",
    "r = requests.post(host + '/sessions', data=json.dumps(data), headers=headers)\n",
    "r.json()"
   ]
  },
  {
   "cell_type": "code",
   "execution_count": 3,
   "id": "d0d2ee65-c6a4-4891-873e-2241ba06bea7",
   "metadata": {},
   "outputs": [
    {
     "data": {
      "text/plain": [
       "{'id': 5,\n",
       " 'name': None,\n",
       " 'appId': None,\n",
       " 'owner': None,\n",
       " 'proxyUser': None,\n",
       " 'state': 'starting',\n",
       " 'kind': 'pyspark',\n",
       " 'appInfo': {'driverLogUrl': None, 'sparkUiUrl': None},\n",
       " 'log': ['22/04/03 05:28:49 INFO StandaloneAppClient$ClientEndpoint: Connecting to master spark://master:7077...',\n",
       "  '22/04/03 05:28:49 INFO TransportClientFactory: Successfully created connection to master/172.18.0.21:7077 after 205 ms (0 ms spent in bootstraps)',\n",
       "  '22/04/03 05:28:50 INFO StandaloneSchedulerBackend: Connected to Spark cluster with app ID app-20220403052850-0008',\n",
       "  \"22/04/03 05:28:50 INFO Utils: Successfully started service 'org.apache.spark.network.netty.NettyBlockTransferService' on port 34022.\",\n",
       "  '22/04/03 05:28:50 INFO NettyBlockTransferService: Server created on localhost:34022',\n",
       "  '22/04/03 05:28:50 INFO BlockManager: Using org.apache.spark.storage.RandomBlockReplicationPolicy for block replication policy',\n",
       "  '22/04/03 05:28:50 INFO BlockManagerMaster: Registering BlockManager BlockManagerId(driver, localhost, 34022, None)',\n",
       "  '22/04/03 05:28:50 INFO BlockManagerMasterEndpoint: Registering block manager localhost:34022 with 366.3 MB RAM, BlockManagerId(driver, localhost, 34022, None)',\n",
       "  '22/04/03 05:28:50 INFO BlockManagerMaster: Registered BlockManager BlockManagerId(driver, localhost, 34022, None)',\n",
       "  '22/04/03 05:28:50 INFO BlockManager: Initialized BlockManager: BlockManagerId(driver, localhost, 34022, None)']}"
      ]
     },
     "execution_count": 3,
     "metadata": {},
     "output_type": "execute_result"
    }
   ],
   "source": [
    "session_url = host + r.headers['location']\n",
    "r = requests.get(session_url, headers=headers)\n",
    "r.json()"
   ]
  },
  {
   "cell_type": "code",
   "execution_count": 4,
   "id": "d095a455-441f-45e8-831c-0f150b7d9df3",
   "metadata": {},
   "outputs": [
    {
     "data": {
      "text/plain": [
       "'http://spark-livy:8998/sessions/5'"
      ]
     },
     "execution_count": 4,
     "metadata": {},
     "output_type": "execute_result"
    }
   ],
   "source": [
    "session_url"
   ]
  },
  {
   "cell_type": "code",
   "execution_count": 6,
   "id": "d7fc0213-875b-4569-9220-94db164a0813",
   "metadata": {},
   "outputs": [
    {
     "data": {
      "text/plain": [
       "{'id': 0,\n",
       " 'code': '1 + 1',\n",
       " 'state': 'waiting',\n",
       " 'output': None,\n",
       " 'progress': 0.0,\n",
       " 'started': 0,\n",
       " 'completed': 0}"
      ]
     },
     "execution_count": 6,
     "metadata": {},
     "output_type": "execute_result"
    }
   ],
   "source": [
    "statements_url = session_url + '/statements'\n",
    "data = {'code': '1 + 1'}\n",
    "r = requests.post(statements_url, data=json.dumps(data), headers=headers)\n",
    "r.json()"
   ]
  },
  {
   "cell_type": "code",
   "execution_count": 7,
   "id": "5fcd6282-a195-4436-8fea-629a99138639",
   "metadata": {},
   "outputs": [
    {
     "data": {
      "text/plain": [
       "{'Date': 'Sun, 03 Apr 2022 05:29:58 GMT', 'Content-Type': 'application/json;charset=utf-8', 'Content-Encoding': 'gzip', 'Location': '/sessions/5/statements/0', 'Transfer-Encoding': 'chunked', 'Server': 'Jetty(9.3.24.v20180605)'}"
      ]
     },
     "execution_count": 7,
     "metadata": {},
     "output_type": "execute_result"
    }
   ],
   "source": [
    "r.headers"
   ]
  },
  {
   "cell_type": "code",
   "execution_count": 8,
   "id": "a0903643-2e22-4cce-8028-fd9ec8cf36d0",
   "metadata": {},
   "outputs": [
    {
     "data": {
      "text/plain": [
       "'http://spark-livy:8998/sessions/5/statements'"
      ]
     },
     "execution_count": 8,
     "metadata": {},
     "output_type": "execute_result"
    }
   ],
   "source": [
    "statements_url"
   ]
  },
  {
   "cell_type": "code",
   "execution_count": 9,
   "id": "810410f6-793b-4666-b922-88c6a25a3beb",
   "metadata": {},
   "outputs": [
    {
     "name": "stdout",
     "output_type": "stream",
     "text": [
      "{'statements': [{'code': '1 + 1',\n",
      "                 'completed': 1648963800614,\n",
      "                 'id': 0,\n",
      "                 'output': {'data': {'text/plain': '2'},\n",
      "                            'execution_count': 0,\n",
      "                            'status': 'ok'},\n",
      "                 'progress': 1.0,\n",
      "                 'started': 1648963800588,\n",
      "                 'state': 'available'}],\n",
      " 'total_statements': 1}\n"
     ]
    }
   ],
   "source": [
    "r = requests.get(statements_url, headers=headers)\n",
    "pprint.pprint(r.json())"
   ]
  },
  {
   "cell_type": "code",
   "execution_count": 10,
   "id": "4ef4d7f7-e940-4ba6-9c4a-c7f4ecc1115f",
   "metadata": {},
   "outputs": [],
   "source": [
    "data = {\n",
    "  'code': textwrap.dedent(\"\"\"\n",
    "\n",
    "    # Create RDD from parallelize    \n",
    "    dataList = [(\"Java\", 20000), (\"Python\", 100000), (\"Scala\", 3000)]\n",
    "    rdd=spark.sparkContext.parallelize(dataList)\n",
    "    \"\"\")\n",
    "}"
   ]
  },
  {
   "cell_type": "code",
   "execution_count": 11,
   "id": "9928c36a-8d8d-4469-aff9-2bf4f322550b",
   "metadata": {},
   "outputs": [
    {
     "name": "stdout",
     "output_type": "stream",
     "text": [
      "{'code': '\\n'\n",
      "         '\\n'\n",
      "         '# Create RDD from parallelize    \\n'\n",
      "         'dataList = [(\"Java\", 20000), (\"Python\", 100000), (\"Scala\", 3000)]\\n'\n",
      "         'rdd=spark.sparkContext.parallelize(dataList)\\n',\n",
      " 'completed': 0,\n",
      " 'id': 1,\n",
      " 'output': None,\n",
      " 'progress': 0.0,\n",
      " 'started': 1648963881766,\n",
      " 'state': 'running'}\n"
     ]
    }
   ],
   "source": [
    "r = requests.post(statements_url, data=json.dumps(data), headers=headers)\n",
    "pprint.pprint(r.json())"
   ]
  },
  {
   "cell_type": "code",
   "execution_count": 12,
   "id": "229ffe46-5396-42bf-9df4-b5929a29f434",
   "metadata": {},
   "outputs": [
    {
     "name": "stdout",
     "output_type": "stream",
     "text": [
      "{'statements': [{'code': '1 + 1',\n",
      "                 'completed': 1648963800614,\n",
      "                 'id': 0,\n",
      "                 'output': {'data': {'text/plain': '2'},\n",
      "                            'execution_count': 0,\n",
      "                            'status': 'ok'},\n",
      "                 'progress': 1.0,\n",
      "                 'started': 1648963800588,\n",
      "                 'state': 'available'},\n",
      "                {'code': '\\n'\n",
      "                         '\\n'\n",
      "                         '# Create RDD from parallelize    \\n'\n",
      "                         'dataList = [(\"Java\", 20000), (\"Python\", 100000), '\n",
      "                         '(\"Scala\", 3000)]\\n'\n",
      "                         'rdd=spark.sparkContext.parallelize(dataList)\\n',\n",
      "                 'completed': 1648963882618,\n",
      "                 'id': 1,\n",
      "                 'output': {'data': {'text/plain': ''},\n",
      "                            'execution_count': 1,\n",
      "                            'status': 'ok'},\n",
      "                 'progress': 1.0,\n",
      "                 'started': 1648963881766,\n",
      "                 'state': 'available'}],\n",
      " 'total_statements': 2}\n"
     ]
    }
   ],
   "source": [
    "r = requests.get(statements_url, headers=headers)\n",
    "pprint.pprint(r.json())"
   ]
  },
  {
   "cell_type": "code",
   "execution_count": 13,
   "id": "3a55200c-0e28-45b2-bdc2-7b88735afd1d",
   "metadata": {},
   "outputs": [
    {
     "data": {
      "text/plain": [
       "<Response [200]>"
      ]
     },
     "execution_count": 13,
     "metadata": {},
     "output_type": "execute_result"
    }
   ],
   "source": [
    "requests.delete(session_url, headers=headers)"
   ]
  },
  {
   "cell_type": "code",
   "execution_count": 12,
   "id": "3869ddb5-19ed-49be-8de2-790d5fd0568f",
   "metadata": {},
   "outputs": [],
   "source": [
    "session_url = 'http://spark-livy:8998/sessions/4'"
   ]
  },
  {
   "cell_type": "code",
   "execution_count": null,
   "id": "e10c9052-eebf-436e-9111-81074a61be42",
   "metadata": {},
   "outputs": [],
   "source": []
  }
 ],
 "metadata": {
  "kernelspec": {
   "display_name": "Python 3 (ipykernel)",
   "language": "python",
   "name": "python3"
  },
  "language_info": {
   "codemirror_mode": {
    "name": "ipython",
    "version": 3
   },
   "file_extension": ".py",
   "mimetype": "text/x-python",
   "name": "python",
   "nbconvert_exporter": "python",
   "pygments_lexer": "ipython3",
   "version": "3.10.4"
  }
 },
 "nbformat": 4,
 "nbformat_minor": 5
}
