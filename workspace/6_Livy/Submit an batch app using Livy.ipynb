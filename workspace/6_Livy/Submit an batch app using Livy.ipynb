{
 "cells": [
  {
   "cell_type": "markdown",
   "id": "13113a5e-31ea-4a6d-8d4e-0ecdf4b05726",
   "metadata": {},
   "source": [
    "https://towardsdatascience.com/how-to-do-better-deployments-of-spark-batch-jobs-to-aws-emr-using-apache-livy-adc2417f0d8b"
   ]
  },
  {
   "cell_type": "code",
   "execution_count": 1,
   "id": "30b896fc-1564-42a7-b3ba-2e69be50d8a5",
   "metadata": {},
   "outputs": [],
   "source": [
    "import json, pprint, requests, textwrap\n",
    "\n",
    "host = 'http://spark-livy:8998'\n",
    "headers = {'Content-Type': 'application/json'}"
   ]
  },
  {
   "cell_type": "code",
   "execution_count": 2,
   "id": "4e2817fc-3e38-4b2c-9b97-8f409ae49e60",
   "metadata": {},
   "outputs": [],
   "source": [
    "data = {'file': \"hdfs://master:9000/pi.py\"}"
   ]
  },
  {
   "cell_type": "code",
   "execution_count": 3,
   "id": "7e00099e-ea5c-4eba-a60b-3222ac48b766",
   "metadata": {},
   "outputs": [],
   "source": [
    "headers = {'Content-Type': 'application/json'}\n",
    "response = requests.post(host + '/batches', data=json.dumps(data), headers=headers)"
   ]
  },
  {
   "cell_type": "code",
   "execution_count": 3,
   "id": "9c743b92-0570-442e-a1d9-0b854ed4e9b2",
   "metadata": {},
   "outputs": [],
   "source": [
    "batch_url = host + '/batches' + \"/0\""
   ]
  },
  {
   "cell_type": "code",
   "execution_count": 5,
   "id": "b62fd07b-abaa-4be0-ab1e-28730877bee4",
   "metadata": {},
   "outputs": [
    {
     "data": {
      "text/plain": [
       "<Response [200]>"
      ]
     },
     "execution_count": 5,
     "metadata": {},
     "output_type": "execute_result"
    }
   ],
   "source": [
    "requests.delete(batch_url, headers=headers)"
   ]
  },
  {
   "cell_type": "code",
   "execution_count": null,
   "id": "e248b5b9-6505-4c51-a3d4-0b586c419bc2",
   "metadata": {},
   "outputs": [],
   "source": []
  }
 ],
 "metadata": {
  "kernelspec": {
   "display_name": "Python 3 (ipykernel)",
   "language": "python",
   "name": "python3"
  },
  "language_info": {
   "codemirror_mode": {
    "name": "ipython",
    "version": 3
   },
   "file_extension": ".py",
   "mimetype": "text/x-python",
   "name": "python",
   "nbconvert_exporter": "python",
   "pygments_lexer": "ipython3",
   "version": "3.10.4"
  }
 },
 "nbformat": 4,
 "nbformat_minor": 5
}
