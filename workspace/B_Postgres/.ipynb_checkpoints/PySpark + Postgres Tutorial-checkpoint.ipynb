{
 "cells": [
  {
   "cell_type": "markdown",
   "id": "215cc350",
   "metadata": {},
   "source": [
    "# Accessing PostgreSQL with PySpark"
   ]
  },
  {
   "cell_type": "code",
   "execution_count": 1,
   "id": "410adf8a",
   "metadata": {},
   "outputs": [
    {
     "data": {
      "text/html": [
       "\n",
       "            <div>\n",
       "                <p><b>SparkSession - hive</b></p>\n",
       "                \n",
       "        <div>\n",
       "            <p><b>SparkContext</b></p>\n",
       "\n",
       "            <p><a href=\"http://master:4040\">Spark UI</a></p>\n",
       "\n",
       "            <dl>\n",
       "              <dt>Version</dt>\n",
       "                <dd><code>v3.0.3</code></dd>\n",
       "              <dt>Master</dt>\n",
       "                <dd><code>spark://master:7077</code></dd>\n",
       "              <dt>AppName</dt>\n",
       "                <dd><code>PySparkShell</code></dd>\n",
       "            </dl>\n",
       "        </div>\n",
       "        \n",
       "            </div>\n",
       "        "
      ],
      "text/plain": [
       "<pyspark.sql.session.SparkSession at 0x7f0aa71d3c88>"
      ]
     },
     "execution_count": 1,
     "metadata": {},
     "output_type": "execute_result"
    }
   ],
   "source": [
    "spark"
   ]
  },
  {
   "cell_type": "code",
   "execution_count": 2,
   "id": "c118760a",
   "metadata": {},
   "outputs": [
    {
     "data": {
      "text/plain": [
       "[('spark.eventLog.enabled', 'true'),\n",
       " ('spark.eventLog.dir', 'hdfs://master:9000/spark-logs'),\n",
       " ('spark.sql.repl.eagerEval.enabled', 'true'),\n",
       " ('spark.driver.port', '41629'),\n",
       " ('spark.app.initial.file.urls',\n",
       "  'spark://master:41629/files/org.postgresql_postgresql-42.3.3.jar,spark://master:41629/files/org.checkerframework_checker-qual-3.5.0.jar'),\n",
       " ('spark.master', 'spark://master:7077'),\n",
       " ('spark.repl.local.jars',\n",
       "  'file:///root/.ivy2/jars/org.postgresql_postgresql-42.3.3.jar,file:///root/.ivy2/jars/org.checkerframework_checker-qual-3.5.0.jar'),\n",
       " ('spark.history.fs.logDirectory', 'hdfs://master:9000/spark-logs'),\n",
       " ('spark.app.startTime', '1647525484016'),\n",
       " ('spark.history.provider',\n",
       "  'org.apache.spark.deploy.history.FsHistoryProvider'),\n",
       " ('spark.serializer.objectStreamReset', '100'),\n",
       " ('spark.jars',\n",
       "  'file:///root/.ivy2/jars/org.postgresql_postgresql-42.3.3.jar,file:///root/.ivy2/jars/org.checkerframework_checker-qual-3.5.0.jar'),\n",
       " ('spark.history.fs.update.interval', '10s'),\n",
       " ('spark.submit.deployMode', 'client'),\n",
       " ('spark.driver.extraJavaOptions', '-Dderby.system.home=/tmp/derby/'),\n",
       " ('spark.yarn.historyServer.address', 'master:18080'),\n",
       " ('spark.app.id', 'app-20220317135806-0000'),\n",
       " ('spark.files',\n",
       "  'file:///root/.ivy2/jars/org.postgresql_postgresql-42.3.3.jar,file:///root/.ivy2/jars/org.checkerframework_checker-qual-3.5.0.jar'),\n",
       " ('spark.history.ui.port', '18080'),\n",
       " ('spark.driver.host', 'master'),\n",
       " ('spark.executor.memory', '4g'),\n",
       " ('spark.app.initial.jar.urls',\n",
       "  'spark://master:41629/jars/org.postgresql_postgresql-42.3.3.jar,spark://master:41629/jars/org.checkerframework_checker-qual-3.5.0.jar'),\n",
       " ('spark.sql.warehouse.dir', 'hdfs://master:9000/apps/hive/warehouse'),\n",
       " ('spark.executor.id', 'driver'),\n",
       " ('spark.app.name', 'PySparkShell'),\n",
       " ('spark.yarn.jars', 'hdfs:///spark-jars/*.jar'),\n",
       " ('spark.submit.pyFiles',\n",
       "  '/root/.ivy2/jars/org.postgresql_postgresql-42.3.3.jar,/root/.ivy2/jars/org.checkerframework_checker-qual-3.5.0.jar'),\n",
       " ('spark.sql.catalogImplementation', 'hive'),\n",
       " ('spark.rdd.compress', 'True'),\n",
       " ('spark.executor.cores', '1'),\n",
       " ('spark.ui.showConsoleProgress', 'true')]"
      ]
     },
     "execution_count": 2,
     "metadata": {},
     "output_type": "execute_result"
    }
   ],
   "source": [
    "spark.sparkContext._conf.getAll()"
   ]
  },
  {
   "cell_type": "code",
   "execution_count": 3,
   "id": "72332d99",
   "metadata": {},
   "outputs": [
    {
     "name": "stdout",
     "output_type": "stream",
     "text": [
      "/root/workspace/3_PostgreSQL\n"
     ]
    }
   ],
   "source": [
    "! pwd"
   ]
  },
  {
   "cell_type": "code",
   "execution_count": 4,
   "id": "7a27f917",
   "metadata": {},
   "outputs": [
    {
     "name": "stdout",
     "output_type": "stream",
     "text": [
      "total 372\n",
      "drwxr-xr-x  3 root root   4096 Mar 17 13:57  .\n",
      "drwxr-xr-x 12 root root   4096 Mar 15 08:47  ..\n",
      "drwxr-xr-x  2 root root   4096 Mar 17 13:57  .ipynb_checkpoints\n",
      "-rw-r--r--  1 root root   9883 Mar 15 08:23 'PySpark + Postgres Tutorial.ipynb'\n",
      "-rw-r--r--  1 root root  84199 Mar 15 08:23  winequality-red.csv\n",
      "-rw-r--r--  1 root root 264426 Mar 15 08:23  winequality-white.csv\n",
      "-rw-r--r--  1 root root   3305 Mar 15 08:23  winequality.names\n"
     ]
    }
   ],
   "source": [
    "! ls -al"
   ]
  },
  {
   "cell_type": "code",
   "execution_count": 5,
   "id": "9f71afec",
   "metadata": {},
   "outputs": [],
   "source": [
    "ip = 'postgres'\n",
    "port = 5432\n",
    "user = \"postgres\"\n",
    "passwd = \"go2team\"\n",
    "db = \"empdb\""
   ]
  },
  {
   "cell_type": "markdown",
   "id": "ce94dda4",
   "metadata": {},
   "source": [
    "# Write data into Table"
   ]
  },
  {
   "cell_type": "code",
   "execution_count": 6,
   "id": "5983b4a5",
   "metadata": {},
   "outputs": [],
   "source": [
    "from pyspark.sql import Row\n",
    "\n",
    "studentDf = spark.createDataFrame([\n",
    "    Row(id=1,name='vijay',marks=67),\n",
    "    Row(id=2,name='Ajay',marks=88),\n",
    "    Row(id=3,name='jay',marks=79),\n",
    "    Row(id=4,name='vinay',marks=67),\n",
    "])"
   ]
  },
  {
   "cell_type": "code",
   "execution_count": 7,
   "id": "3328d59b",
   "metadata": {},
   "outputs": [
    {
     "name": "stdout",
     "output_type": "stream",
     "text": [
      "+---+-----+-----+\n",
      "| id| name|marks|\n",
      "+---+-----+-----+\n",
      "|  1|vijay|   67|\n",
      "|  2| Ajay|   88|\n",
      "|  3|  jay|   79|\n",
      "|  4|vinay|   67|\n",
      "+---+-----+-----+\n",
      "\n"
     ]
    }
   ],
   "source": [
    "studentDf.show(5)"
   ]
  },
  {
   "cell_type": "raw",
   "id": "8b6ff327-49e5-4d88-b8ba-f7db9f46345b",
   "metadata": {},
   "source": [
    "docker exec \\\n",
    "    -it postgres \\\n",
    "    psql -U postgres\n",
    "\n",
    "CREATE DATABASE empdb;"
   ]
  },
  {
   "cell_type": "code",
   "execution_count": 9,
   "id": "78842e20",
   "metadata": {},
   "outputs": [],
   "source": [
    "studentDf.select(\"id\",\"name\",\"marks\").write.format(\"jdbc\")\\\n",
    "    .option(\"url\",\"jdbc:postgresql://{0}:{1}/{2}\".format( ip, port, db ))\\\n",
    "    .option(\"driver\", \"org.postgresql.Driver\")\\\n",
    "    .option(\"dbtable\", \"students\")\\\n",
    "    .option(\"user\", user ).option(\"password\", passwd ).save()"
   ]
  },
  {
   "cell_type": "markdown",
   "id": "ede430cf",
   "metadata": {},
   "source": [
    "## Read table from empdb"
   ]
  },
  {
   "cell_type": "code",
   "execution_count": 10,
   "id": "05fc1b26",
   "metadata": {},
   "outputs": [],
   "source": [
    "sql = \"\"\"\n",
    "select * from students\n",
    "\"\"\""
   ]
  },
  {
   "cell_type": "code",
   "execution_count": 12,
   "id": "04215988",
   "metadata": {},
   "outputs": [],
   "source": [
    "postgreTable = spark.read.format(\"jdbc\")\\\n",
    "                    .option(\"url\",\"jdbc:postgresql://{0}:{1}/{2}\".format( ip, port, db ))\\\n",
    "                    .option(\"driver\", \"org.postgresql.Driver\")\\\n",
    "                    .option(\"query\", sql).option(\"user\", user).option(\"password\", passwd).load()"
   ]
  },
  {
   "cell_type": "code",
   "execution_count": 13,
   "id": "ca90b666",
   "metadata": {},
   "outputs": [
    {
     "name": "stdout",
     "output_type": "stream",
     "text": [
      "+---+-----+-----+\n",
      "| id| name|marks|\n",
      "+---+-----+-----+\n",
      "|  3|  jay|   79|\n",
      "|  4|vinay|   67|\n",
      "|  1|vijay|   67|\n",
      "|  2| Ajay|   88|\n",
      "+---+-----+-----+\n",
      "\n"
     ]
    }
   ],
   "source": [
    "postgreTable.show()"
   ]
  },
  {
   "cell_type": "code",
   "execution_count": null,
   "id": "68d2aac9",
   "metadata": {},
   "outputs": [],
   "source": []
  }
 ],
 "metadata": {
  "kernelspec": {
   "display_name": "Python 3",
   "language": "python",
   "name": "python3"
  },
  "language_info": {
   "codemirror_mode": {
    "name": "ipython",
    "version": 3
   },
   "file_extension": ".py",
   "mimetype": "text/x-python",
   "name": "python",
   "nbconvert_exporter": "python",
   "pygments_lexer": "ipython3",
   "version": "3.6.9"
  }
 },
 "nbformat": 4,
 "nbformat_minor": 5
}
