{
 "cells": [
  {
   "cell_type": "code",
   "execution_count": 2,
   "id": "4a6c63c9-63a7-4247-a780-083e349cc158",
   "metadata": {},
   "outputs": [
    {
     "name": "stdout",
     "output_type": "stream",
     "text": [
      "Overwriting ../dags/sparkoperator.py\n"
     ]
    }
   ],
   "source": [
    "%%writefile ../dags/sparkoperator.py\n",
    "# %load ../dags/sparkoperator.py\n",
    "\n",
    "from datetime import datetime\n",
    "from airflow import DAG\n",
    "from airflow.providers.apache.spark.operators.spark_sql import SparkSqlOperator\n",
    "\n",
    "default_args = {\n",
    "    'start_date': datetime(2022, 1, 1)\n",
    "}\n",
    "\n",
    "with DAG(dag_id=\"spark-example\",\n",
    "         schedule_interval=\"@daily\",\n",
    "         default_args=default_args,\n",
    "         tags=['spark'],\n",
    "         catchup=False\n",
    "        ) as dag:\n",
    "    sql_job = SparkSqlOperator(sql=\"show databases\", master='spark://master:7077', task_id=\"sql_job\")\n"
   ]
  }
 ],
 "metadata": {
  "kernelspec": {
   "display_name": "Python 3 (ipykernel)",
   "language": "python",
   "name": "python3"
  },
  "language_info": {
   "codemirror_mode": {
    "name": "ipython",
    "version": 3
   },
   "file_extension": ".py",
   "mimetype": "text/x-python",
   "name": "python",
   "nbconvert_exporter": "python",
   "pygments_lexer": "ipython3",
   "version": "3.7.0"
  }
 },
 "nbformat": 4,
 "nbformat_minor": 5
}
